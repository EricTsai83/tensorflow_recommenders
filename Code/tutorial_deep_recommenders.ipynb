{
 "cells": [
  {
   "cell_type": "markdown",
   "metadata": {
    "id": "ChjuaQjm_iBf"
   },
   "source": [
    "##### Copyright 2020 The TensorFlow Authors."
   ]
  },
  {
   "cell_type": "code",
   "execution_count": 1,
   "metadata": {
    "execution": {
     "iopub.execute_input": "2022-04-26T16:09:49.363139Z",
     "iopub.status.busy": "2022-04-26T16:09:49.362139Z",
     "iopub.status.idle": "2022-04-26T16:09:49.377136Z",
     "shell.execute_reply": "2022-04-26T16:09:49.376136Z",
     "shell.execute_reply.started": "2022-04-26T16:09:49.362139Z"
    },
    "id": "uWqCArLO_kez",
    "tags": []
   },
   "outputs": [],
   "source": [
    "#@title Licensed under the Apache License, Version 2.0 (the \"License\");\n",
    "# you may not use this file except in compliance with the License.\n",
    "# You may obtain a copy of the License at\n",
    "#\n",
    "# https://www.apache.org/licenses/LICENSE-2.0\n",
    "#\n",
    "# Unless required by applicable law or agreed to in writing, software\n",
    "# distributed under the License is distributed on an \"AS IS\" BASIS,\n",
    "# WITHOUT WARRANTIES OR CONDITIONS OF ANY KIND, either express or implied.\n",
    "# See the License for the specific language governing permissions and\n",
    "# limitations under the License."
   ]
  },
  {
   "cell_type": "markdown",
   "metadata": {
    "id": "ikhIvrku-i-L",
    "tags": []
   },
   "source": [
    "# Building deep retrieval models"
   ]
  },
  {
   "cell_type": "markdown",
   "metadata": {
    "id": "rrDVNe7Vdqhr"
   },
   "source": [
    "In [the featurization tutorial](https://www.tensorflow.org/recommenders/examples/featurization) we incorporated multiple features into our models, but the models consist of only an embedding layer. We can add more dense layers to our models to increase their expressive power.\n",
    "\n",
    "In general, deeper models are capable of learning more complex patterns than shallower models. For example, our [user model](https://www.tensorflow.org/recommenders/examples/featurization#user_model) incorporates user ids and timestamps to model user preferences at a point in time. A shallow model (say, a single embedding layer) may only be able to learn the simplest relationships between those features and movies: a given movie is most popular around the time of its release, and a given user generally prefers horror movies to comedies. To capture more complex relationships, such as user preferences evolving over time, we may need a deeper model with multiple stacked dense layers.\n",
    "\n",
    "Of course, complex models also have their disadvantages. The first is computational cost, as larger models require both more memory and more computation to fit and serve. The second is the requirement for more data: in general, more training data is needed to take advantage of deeper models. With more parameters, deep models might overfit or even simply memorize the training examples instead of learning a function that can generalize. Finally, training deeper models may be harder, and more care needs to be taken in choosing settings like regularization and learning rate.\n",
    "\n",
    "Finding a good architecture for a real-world recommender system is a complex art, requiring good intuition and careful [hyperparameter tuning](https://en.wikipedia.org/wiki/Hyperparameter_optimization). For example, factors such as the depth and width of the model, activation function, learning rate, and optimizer can radically change the performance of the model. Modelling choices are further complicated by the fact that good offline evaluation metrics may not correspond to good online performance, and that the choice of what to optimize for is often more critical than the choice of model itself.\n",
    "\n",
    "Nevertheless, effort put into building and fine-tuning larger models often pays off. In this tutorial, we will illustrate how to build deep retrieval models using TensorFlow Recommenders. We'll do this by building progressively more complex models to see how this affects model performance."
   ]
  },
  {
   "cell_type": "markdown",
   "metadata": {
    "id": "D7RYXwgbAcbU"
   },
   "source": [
    "## Preliminaries\n",
    "\n",
    "We first import the necessary packages."
   ]
  },
  {
   "cell_type": "code",
   "execution_count": 2,
   "metadata": {
    "execution": {
     "iopub.execute_input": "2022-04-26T16:09:49.382138Z",
     "iopub.status.busy": "2022-04-26T16:09:49.382138Z",
     "iopub.status.idle": "2022-04-26T16:09:59.669744Z",
     "shell.execute_reply": "2022-04-26T16:09:59.661749Z",
     "shell.execute_reply.started": "2022-04-26T16:09:49.382138Z"
    },
    "id": "XbwMjnLP5nZ_",
    "tags": []
   },
   "outputs": [],
   "source": [
    "import os\n",
    "import tempfile\n",
    "import pandas as pd\n",
    "\n",
    "%matplotlib inline\n",
    "import matplotlib.pyplot as plt\n",
    "\n",
    "\n",
    "import numpy as np\n",
    "import tensorflow as tf\n",
    "import tensorflow_datasets as tfds\n",
    "import tensorflow_recommenders as tfrs\n",
    "\n",
    "\n",
    "from tqdm.notebook import tqdm\n",
    "# utils\n",
    "from utils import time_utils\n",
    "from utils.display_dataframe import grid_df_display\n",
    "\n",
    "# tensorboard needs\n",
    "from tensorboard import notebook\n",
    "import time\n",
    "import subprocess\n",
    "import platform\n",
    "import os\n",
    "import re\n",
    "import datetime\n",
    "\n",
    "plt.style.use('seaborn-whitegrid')"
   ]
  },
  {
   "cell_type": "markdown",
   "metadata": {
    "id": "tgKIjpQLAiax"
   },
   "source": [
    "In this tutorial we will use the models from [the featurization tutorial](https://www.tensorflow.org/recommenders/examples/featurization) to generate embeddings. Hence we will only be using the user id, timestamp, and movie title features."
   ]
  },
  {
   "cell_type": "code",
   "execution_count": 3,
   "metadata": {
    "execution": {
     "iopub.execute_input": "2022-04-26T16:09:59.676747Z",
     "iopub.status.busy": "2022-04-26T16:09:59.675745Z",
     "iopub.status.idle": "2022-04-26T16:09:59.932705Z",
     "shell.execute_reply": "2022-04-26T16:09:59.927709Z",
     "shell.execute_reply.started": "2022-04-26T16:09:59.676747Z"
    },
    "id": "kc2REbOO52Fl",
    "tags": []
   },
   "outputs": [],
   "source": [
    "# Read the data\n",
    "user_name = ['user_id', 'age', 'gender', 'user_occupation_text', 'user_zip_code']\n",
    "user_df = pd.read_csv('../Data/ml-100k/u.user', sep='|', names=user_name)\n",
    "\n",
    "ratings_name = ['user_id', 'movie_id', 'user_rating', 'timestamp']\n",
    "ratings_df = pd.read_csv('../Data/ml-100k/u.data', sep='\\t', names=ratings_name)\n",
    "\n",
    "movies_name = ['movie_id', 'movie_title', 'release_data', 'video_release_date',\n",
    "               'IMDb_URL', 'unknow', 'Action', 'Adventure', 'Animation', 'Children’s',\n",
    "               'Comedy', 'Crime', 'Documentary', 'Drama', 'Fantasy', 'Film-Noir',\n",
    "               'Horror', 'Musical', 'Mystery', 'Romance', 'Sci-Fi', 'Thriller',\n",
    "               'War', 'Western']\n",
    "movies_df = pd.read_csv('../Data/ml-100k/u.item', sep='|', encoding='ISO-8859-1', header=None, names=movies_name)"
   ]
  },
  {
   "cell_type": "code",
   "execution_count": 4,
   "metadata": {
    "execution": {
     "iopub.execute_input": "2022-04-26T16:09:59.936703Z",
     "iopub.status.busy": "2022-04-26T16:09:59.936703Z",
     "iopub.status.idle": "2022-04-26T16:10:00.337778Z",
     "shell.execute_reply": "2022-04-26T16:10:00.336779Z",
     "shell.execute_reply.started": "2022-04-26T16:09:59.936703Z"
    },
    "tags": []
   },
   "outputs": [
    {
     "data": {
      "text/html": [
       "<table style='width:100%; border:0px'><tr style='border:0px'><td style='width:50.0%;vertical-align:top;border:0px'><style type=\"text/css\">\n",
       "</style>\n",
       "<table id=\"T_a16fe\" style='display:inline'>\n",
       "  <caption><b><H2>user_df<H2></b></caption>\n",
       "  <thead>\n",
       "    <tr>\n",
       "      <th class=\"blank level0\" >&nbsp;</th>\n",
       "      <th id=\"T_a16fe_level0_col0\" class=\"col_heading level0 col0\" >user_id</th>\n",
       "      <th id=\"T_a16fe_level0_col1\" class=\"col_heading level0 col1\" >age</th>\n",
       "      <th id=\"T_a16fe_level0_col2\" class=\"col_heading level0 col2\" >gender</th>\n",
       "      <th id=\"T_a16fe_level0_col3\" class=\"col_heading level0 col3\" >user_occupation_text</th>\n",
       "      <th id=\"T_a16fe_level0_col4\" class=\"col_heading level0 col4\" >user_zip_code</th>\n",
       "    </tr>\n",
       "  </thead>\n",
       "  <tbody>\n",
       "    <tr>\n",
       "      <th id=\"T_a16fe_level0_row0\" class=\"row_heading level0 row0\" >0</th>\n",
       "      <td id=\"T_a16fe_row0_col0\" class=\"data row0 col0\" >1</td>\n",
       "      <td id=\"T_a16fe_row0_col1\" class=\"data row0 col1\" >24</td>\n",
       "      <td id=\"T_a16fe_row0_col2\" class=\"data row0 col2\" >M</td>\n",
       "      <td id=\"T_a16fe_row0_col3\" class=\"data row0 col3\" >technician</td>\n",
       "      <td id=\"T_a16fe_row0_col4\" class=\"data row0 col4\" >85711</td>\n",
       "    </tr>\n",
       "    <tr>\n",
       "      <th id=\"T_a16fe_level0_row1\" class=\"row_heading level0 row1\" >1</th>\n",
       "      <td id=\"T_a16fe_row1_col0\" class=\"data row1 col0\" >2</td>\n",
       "      <td id=\"T_a16fe_row1_col1\" class=\"data row1 col1\" >53</td>\n",
       "      <td id=\"T_a16fe_row1_col2\" class=\"data row1 col2\" >F</td>\n",
       "      <td id=\"T_a16fe_row1_col3\" class=\"data row1 col3\" >other</td>\n",
       "      <td id=\"T_a16fe_row1_col4\" class=\"data row1 col4\" >94043</td>\n",
       "    </tr>\n",
       "    <tr>\n",
       "      <th id=\"T_a16fe_level0_row2\" class=\"row_heading level0 row2\" >2</th>\n",
       "      <td id=\"T_a16fe_row2_col0\" class=\"data row2 col0\" >3</td>\n",
       "      <td id=\"T_a16fe_row2_col1\" class=\"data row2 col1\" >23</td>\n",
       "      <td id=\"T_a16fe_row2_col2\" class=\"data row2 col2\" >M</td>\n",
       "      <td id=\"T_a16fe_row2_col3\" class=\"data row2 col3\" >writer</td>\n",
       "      <td id=\"T_a16fe_row2_col4\" class=\"data row2 col4\" >32067</td>\n",
       "    </tr>\n",
       "    <tr>\n",
       "      <th id=\"T_a16fe_level0_row3\" class=\"row_heading level0 row3\" >3</th>\n",
       "      <td id=\"T_a16fe_row3_col0\" class=\"data row3 col0\" >4</td>\n",
       "      <td id=\"T_a16fe_row3_col1\" class=\"data row3 col1\" >24</td>\n",
       "      <td id=\"T_a16fe_row3_col2\" class=\"data row3 col2\" >M</td>\n",
       "      <td id=\"T_a16fe_row3_col3\" class=\"data row3 col3\" >technician</td>\n",
       "      <td id=\"T_a16fe_row3_col4\" class=\"data row3 col4\" >43537</td>\n",
       "    </tr>\n",
       "    <tr>\n",
       "      <th id=\"T_a16fe_level0_row4\" class=\"row_heading level0 row4\" >4</th>\n",
       "      <td id=\"T_a16fe_row4_col0\" class=\"data row4 col0\" >5</td>\n",
       "      <td id=\"T_a16fe_row4_col1\" class=\"data row4 col1\" >33</td>\n",
       "      <td id=\"T_a16fe_row4_col2\" class=\"data row4 col2\" >F</td>\n",
       "      <td id=\"T_a16fe_row4_col3\" class=\"data row4 col3\" >other</td>\n",
       "      <td id=\"T_a16fe_row4_col4\" class=\"data row4 col4\" >15213</td>\n",
       "    </tr>\n",
       "  </tbody>\n",
       "</table>\n",
       "</td><td style='width:50.0%;vertical-align:top;border:0px'><style type=\"text/css\">\n",
       "</style>\n",
       "<table id=\"T_1c332\" style='display:inline'>\n",
       "  <caption><b><H2>ratings_df<H2></b></caption>\n",
       "  <thead>\n",
       "    <tr>\n",
       "      <th class=\"blank level0\" >&nbsp;</th>\n",
       "      <th id=\"T_1c332_level0_col0\" class=\"col_heading level0 col0\" >user_id</th>\n",
       "      <th id=\"T_1c332_level0_col1\" class=\"col_heading level0 col1\" >movie_id</th>\n",
       "      <th id=\"T_1c332_level0_col2\" class=\"col_heading level0 col2\" >user_rating</th>\n",
       "      <th id=\"T_1c332_level0_col3\" class=\"col_heading level0 col3\" >timestamp</th>\n",
       "    </tr>\n",
       "  </thead>\n",
       "  <tbody>\n",
       "    <tr>\n",
       "      <th id=\"T_1c332_level0_row0\" class=\"row_heading level0 row0\" >0</th>\n",
       "      <td id=\"T_1c332_row0_col0\" class=\"data row0 col0\" >196</td>\n",
       "      <td id=\"T_1c332_row0_col1\" class=\"data row0 col1\" >242</td>\n",
       "      <td id=\"T_1c332_row0_col2\" class=\"data row0 col2\" >3</td>\n",
       "      <td id=\"T_1c332_row0_col3\" class=\"data row0 col3\" >881250949</td>\n",
       "    </tr>\n",
       "    <tr>\n",
       "      <th id=\"T_1c332_level0_row1\" class=\"row_heading level0 row1\" >1</th>\n",
       "      <td id=\"T_1c332_row1_col0\" class=\"data row1 col0\" >186</td>\n",
       "      <td id=\"T_1c332_row1_col1\" class=\"data row1 col1\" >302</td>\n",
       "      <td id=\"T_1c332_row1_col2\" class=\"data row1 col2\" >3</td>\n",
       "      <td id=\"T_1c332_row1_col3\" class=\"data row1 col3\" >891717742</td>\n",
       "    </tr>\n",
       "    <tr>\n",
       "      <th id=\"T_1c332_level0_row2\" class=\"row_heading level0 row2\" >2</th>\n",
       "      <td id=\"T_1c332_row2_col0\" class=\"data row2 col0\" >22</td>\n",
       "      <td id=\"T_1c332_row2_col1\" class=\"data row2 col1\" >377</td>\n",
       "      <td id=\"T_1c332_row2_col2\" class=\"data row2 col2\" >1</td>\n",
       "      <td id=\"T_1c332_row2_col3\" class=\"data row2 col3\" >878887116</td>\n",
       "    </tr>\n",
       "    <tr>\n",
       "      <th id=\"T_1c332_level0_row3\" class=\"row_heading level0 row3\" >3</th>\n",
       "      <td id=\"T_1c332_row3_col0\" class=\"data row3 col0\" >244</td>\n",
       "      <td id=\"T_1c332_row3_col1\" class=\"data row3 col1\" >51</td>\n",
       "      <td id=\"T_1c332_row3_col2\" class=\"data row3 col2\" >2</td>\n",
       "      <td id=\"T_1c332_row3_col3\" class=\"data row3 col3\" >880606923</td>\n",
       "    </tr>\n",
       "    <tr>\n",
       "      <th id=\"T_1c332_level0_row4\" class=\"row_heading level0 row4\" >4</th>\n",
       "      <td id=\"T_1c332_row4_col0\" class=\"data row4 col0\" >166</td>\n",
       "      <td id=\"T_1c332_row4_col1\" class=\"data row4 col1\" >346</td>\n",
       "      <td id=\"T_1c332_row4_col2\" class=\"data row4 col2\" >1</td>\n",
       "      <td id=\"T_1c332_row4_col3\" class=\"data row4 col3\" >886397596</td>\n",
       "    </tr>\n",
       "  </tbody>\n",
       "</table>\n",
       "</td></tr><tr style='border:0px'><td style='width:50.0%;vertical-align:top;border:0px'><style type=\"text/css\">\n",
       "</style>\n",
       "<table id=\"T_e272a\" style='display:inline'>\n",
       "  <caption><b><H2>movies_df<H2></b></caption>\n",
       "  <thead>\n",
       "    <tr>\n",
       "      <th class=\"blank level0\" >&nbsp;</th>\n",
       "      <th id=\"T_e272a_level0_col0\" class=\"col_heading level0 col0\" >movie_id</th>\n",
       "      <th id=\"T_e272a_level0_col1\" class=\"col_heading level0 col1\" >movie_title</th>\n",
       "      <th id=\"T_e272a_level0_col2\" class=\"col_heading level0 col2\" >release_data</th>\n",
       "      <th id=\"T_e272a_level0_col3\" class=\"col_heading level0 col3\" >video_release_date</th>\n",
       "      <th id=\"T_e272a_level0_col4\" class=\"col_heading level0 col4\" >IMDb_URL</th>\n",
       "      <th id=\"T_e272a_level0_col5\" class=\"col_heading level0 col5\" >unknow</th>\n",
       "      <th id=\"T_e272a_level0_col6\" class=\"col_heading level0 col6\" >Action</th>\n",
       "      <th id=\"T_e272a_level0_col7\" class=\"col_heading level0 col7\" >Adventure</th>\n",
       "      <th id=\"T_e272a_level0_col8\" class=\"col_heading level0 col8\" >Animation</th>\n",
       "      <th id=\"T_e272a_level0_col9\" class=\"col_heading level0 col9\" >Children’s</th>\n",
       "      <th id=\"T_e272a_level0_col10\" class=\"col_heading level0 col10\" >Comedy</th>\n",
       "      <th id=\"T_e272a_level0_col11\" class=\"col_heading level0 col11\" >Crime</th>\n",
       "      <th id=\"T_e272a_level0_col12\" class=\"col_heading level0 col12\" >Documentary</th>\n",
       "      <th id=\"T_e272a_level0_col13\" class=\"col_heading level0 col13\" >Drama</th>\n",
       "      <th id=\"T_e272a_level0_col14\" class=\"col_heading level0 col14\" >Fantasy</th>\n",
       "      <th id=\"T_e272a_level0_col15\" class=\"col_heading level0 col15\" >Film-Noir</th>\n",
       "      <th id=\"T_e272a_level0_col16\" class=\"col_heading level0 col16\" >Horror</th>\n",
       "      <th id=\"T_e272a_level0_col17\" class=\"col_heading level0 col17\" >Musical</th>\n",
       "      <th id=\"T_e272a_level0_col18\" class=\"col_heading level0 col18\" >Mystery</th>\n",
       "      <th id=\"T_e272a_level0_col19\" class=\"col_heading level0 col19\" >Romance</th>\n",
       "      <th id=\"T_e272a_level0_col20\" class=\"col_heading level0 col20\" >Sci-Fi</th>\n",
       "      <th id=\"T_e272a_level0_col21\" class=\"col_heading level0 col21\" >Thriller</th>\n",
       "      <th id=\"T_e272a_level0_col22\" class=\"col_heading level0 col22\" >War</th>\n",
       "      <th id=\"T_e272a_level0_col23\" class=\"col_heading level0 col23\" >Western</th>\n",
       "    </tr>\n",
       "  </thead>\n",
       "  <tbody>\n",
       "    <tr>\n",
       "      <th id=\"T_e272a_level0_row0\" class=\"row_heading level0 row0\" >0</th>\n",
       "      <td id=\"T_e272a_row0_col0\" class=\"data row0 col0\" >1</td>\n",
       "      <td id=\"T_e272a_row0_col1\" class=\"data row0 col1\" >Toy Story (1995)</td>\n",
       "      <td id=\"T_e272a_row0_col2\" class=\"data row0 col2\" >01-Jan-1995</td>\n",
       "      <td id=\"T_e272a_row0_col3\" class=\"data row0 col3\" >nan</td>\n",
       "      <td id=\"T_e272a_row0_col4\" class=\"data row0 col4\" >http://us.imdb.com/M/title-exact?Toy%20Story%20(1995)</td>\n",
       "      <td id=\"T_e272a_row0_col5\" class=\"data row0 col5\" >0</td>\n",
       "      <td id=\"T_e272a_row0_col6\" class=\"data row0 col6\" >0</td>\n",
       "      <td id=\"T_e272a_row0_col7\" class=\"data row0 col7\" >0</td>\n",
       "      <td id=\"T_e272a_row0_col8\" class=\"data row0 col8\" >1</td>\n",
       "      <td id=\"T_e272a_row0_col9\" class=\"data row0 col9\" >1</td>\n",
       "      <td id=\"T_e272a_row0_col10\" class=\"data row0 col10\" >1</td>\n",
       "      <td id=\"T_e272a_row0_col11\" class=\"data row0 col11\" >0</td>\n",
       "      <td id=\"T_e272a_row0_col12\" class=\"data row0 col12\" >0</td>\n",
       "      <td id=\"T_e272a_row0_col13\" class=\"data row0 col13\" >0</td>\n",
       "      <td id=\"T_e272a_row0_col14\" class=\"data row0 col14\" >0</td>\n",
       "      <td id=\"T_e272a_row0_col15\" class=\"data row0 col15\" >0</td>\n",
       "      <td id=\"T_e272a_row0_col16\" class=\"data row0 col16\" >0</td>\n",
       "      <td id=\"T_e272a_row0_col17\" class=\"data row0 col17\" >0</td>\n",
       "      <td id=\"T_e272a_row0_col18\" class=\"data row0 col18\" >0</td>\n",
       "      <td id=\"T_e272a_row0_col19\" class=\"data row0 col19\" >0</td>\n",
       "      <td id=\"T_e272a_row0_col20\" class=\"data row0 col20\" >0</td>\n",
       "      <td id=\"T_e272a_row0_col21\" class=\"data row0 col21\" >0</td>\n",
       "      <td id=\"T_e272a_row0_col22\" class=\"data row0 col22\" >0</td>\n",
       "      <td id=\"T_e272a_row0_col23\" class=\"data row0 col23\" >0</td>\n",
       "    </tr>\n",
       "    <tr>\n",
       "      <th id=\"T_e272a_level0_row1\" class=\"row_heading level0 row1\" >1</th>\n",
       "      <td id=\"T_e272a_row1_col0\" class=\"data row1 col0\" >2</td>\n",
       "      <td id=\"T_e272a_row1_col1\" class=\"data row1 col1\" >GoldenEye (1995)</td>\n",
       "      <td id=\"T_e272a_row1_col2\" class=\"data row1 col2\" >01-Jan-1995</td>\n",
       "      <td id=\"T_e272a_row1_col3\" class=\"data row1 col3\" >nan</td>\n",
       "      <td id=\"T_e272a_row1_col4\" class=\"data row1 col4\" >http://us.imdb.com/M/title-exact?GoldenEye%20(1995)</td>\n",
       "      <td id=\"T_e272a_row1_col5\" class=\"data row1 col5\" >0</td>\n",
       "      <td id=\"T_e272a_row1_col6\" class=\"data row1 col6\" >1</td>\n",
       "      <td id=\"T_e272a_row1_col7\" class=\"data row1 col7\" >1</td>\n",
       "      <td id=\"T_e272a_row1_col8\" class=\"data row1 col8\" >0</td>\n",
       "      <td id=\"T_e272a_row1_col9\" class=\"data row1 col9\" >0</td>\n",
       "      <td id=\"T_e272a_row1_col10\" class=\"data row1 col10\" >0</td>\n",
       "      <td id=\"T_e272a_row1_col11\" class=\"data row1 col11\" >0</td>\n",
       "      <td id=\"T_e272a_row1_col12\" class=\"data row1 col12\" >0</td>\n",
       "      <td id=\"T_e272a_row1_col13\" class=\"data row1 col13\" >0</td>\n",
       "      <td id=\"T_e272a_row1_col14\" class=\"data row1 col14\" >0</td>\n",
       "      <td id=\"T_e272a_row1_col15\" class=\"data row1 col15\" >0</td>\n",
       "      <td id=\"T_e272a_row1_col16\" class=\"data row1 col16\" >0</td>\n",
       "      <td id=\"T_e272a_row1_col17\" class=\"data row1 col17\" >0</td>\n",
       "      <td id=\"T_e272a_row1_col18\" class=\"data row1 col18\" >0</td>\n",
       "      <td id=\"T_e272a_row1_col19\" class=\"data row1 col19\" >0</td>\n",
       "      <td id=\"T_e272a_row1_col20\" class=\"data row1 col20\" >0</td>\n",
       "      <td id=\"T_e272a_row1_col21\" class=\"data row1 col21\" >1</td>\n",
       "      <td id=\"T_e272a_row1_col22\" class=\"data row1 col22\" >0</td>\n",
       "      <td id=\"T_e272a_row1_col23\" class=\"data row1 col23\" >0</td>\n",
       "    </tr>\n",
       "    <tr>\n",
       "      <th id=\"T_e272a_level0_row2\" class=\"row_heading level0 row2\" >2</th>\n",
       "      <td id=\"T_e272a_row2_col0\" class=\"data row2 col0\" >3</td>\n",
       "      <td id=\"T_e272a_row2_col1\" class=\"data row2 col1\" >Four Rooms (1995)</td>\n",
       "      <td id=\"T_e272a_row2_col2\" class=\"data row2 col2\" >01-Jan-1995</td>\n",
       "      <td id=\"T_e272a_row2_col3\" class=\"data row2 col3\" >nan</td>\n",
       "      <td id=\"T_e272a_row2_col4\" class=\"data row2 col4\" >http://us.imdb.com/M/title-exact?Four%20Rooms%20(1995)</td>\n",
       "      <td id=\"T_e272a_row2_col5\" class=\"data row2 col5\" >0</td>\n",
       "      <td id=\"T_e272a_row2_col6\" class=\"data row2 col6\" >0</td>\n",
       "      <td id=\"T_e272a_row2_col7\" class=\"data row2 col7\" >0</td>\n",
       "      <td id=\"T_e272a_row2_col8\" class=\"data row2 col8\" >0</td>\n",
       "      <td id=\"T_e272a_row2_col9\" class=\"data row2 col9\" >0</td>\n",
       "      <td id=\"T_e272a_row2_col10\" class=\"data row2 col10\" >0</td>\n",
       "      <td id=\"T_e272a_row2_col11\" class=\"data row2 col11\" >0</td>\n",
       "      <td id=\"T_e272a_row2_col12\" class=\"data row2 col12\" >0</td>\n",
       "      <td id=\"T_e272a_row2_col13\" class=\"data row2 col13\" >0</td>\n",
       "      <td id=\"T_e272a_row2_col14\" class=\"data row2 col14\" >0</td>\n",
       "      <td id=\"T_e272a_row2_col15\" class=\"data row2 col15\" >0</td>\n",
       "      <td id=\"T_e272a_row2_col16\" class=\"data row2 col16\" >0</td>\n",
       "      <td id=\"T_e272a_row2_col17\" class=\"data row2 col17\" >0</td>\n",
       "      <td id=\"T_e272a_row2_col18\" class=\"data row2 col18\" >0</td>\n",
       "      <td id=\"T_e272a_row2_col19\" class=\"data row2 col19\" >0</td>\n",
       "      <td id=\"T_e272a_row2_col20\" class=\"data row2 col20\" >0</td>\n",
       "      <td id=\"T_e272a_row2_col21\" class=\"data row2 col21\" >1</td>\n",
       "      <td id=\"T_e272a_row2_col22\" class=\"data row2 col22\" >0</td>\n",
       "      <td id=\"T_e272a_row2_col23\" class=\"data row2 col23\" >0</td>\n",
       "    </tr>\n",
       "    <tr>\n",
       "      <th id=\"T_e272a_level0_row3\" class=\"row_heading level0 row3\" >3</th>\n",
       "      <td id=\"T_e272a_row3_col0\" class=\"data row3 col0\" >4</td>\n",
       "      <td id=\"T_e272a_row3_col1\" class=\"data row3 col1\" >Get Shorty (1995)</td>\n",
       "      <td id=\"T_e272a_row3_col2\" class=\"data row3 col2\" >01-Jan-1995</td>\n",
       "      <td id=\"T_e272a_row3_col3\" class=\"data row3 col3\" >nan</td>\n",
       "      <td id=\"T_e272a_row3_col4\" class=\"data row3 col4\" >http://us.imdb.com/M/title-exact?Get%20Shorty%20(1995)</td>\n",
       "      <td id=\"T_e272a_row3_col5\" class=\"data row3 col5\" >0</td>\n",
       "      <td id=\"T_e272a_row3_col6\" class=\"data row3 col6\" >1</td>\n",
       "      <td id=\"T_e272a_row3_col7\" class=\"data row3 col7\" >0</td>\n",
       "      <td id=\"T_e272a_row3_col8\" class=\"data row3 col8\" >0</td>\n",
       "      <td id=\"T_e272a_row3_col9\" class=\"data row3 col9\" >0</td>\n",
       "      <td id=\"T_e272a_row3_col10\" class=\"data row3 col10\" >1</td>\n",
       "      <td id=\"T_e272a_row3_col11\" class=\"data row3 col11\" >0</td>\n",
       "      <td id=\"T_e272a_row3_col12\" class=\"data row3 col12\" >0</td>\n",
       "      <td id=\"T_e272a_row3_col13\" class=\"data row3 col13\" >1</td>\n",
       "      <td id=\"T_e272a_row3_col14\" class=\"data row3 col14\" >0</td>\n",
       "      <td id=\"T_e272a_row3_col15\" class=\"data row3 col15\" >0</td>\n",
       "      <td id=\"T_e272a_row3_col16\" class=\"data row3 col16\" >0</td>\n",
       "      <td id=\"T_e272a_row3_col17\" class=\"data row3 col17\" >0</td>\n",
       "      <td id=\"T_e272a_row3_col18\" class=\"data row3 col18\" >0</td>\n",
       "      <td id=\"T_e272a_row3_col19\" class=\"data row3 col19\" >0</td>\n",
       "      <td id=\"T_e272a_row3_col20\" class=\"data row3 col20\" >0</td>\n",
       "      <td id=\"T_e272a_row3_col21\" class=\"data row3 col21\" >0</td>\n",
       "      <td id=\"T_e272a_row3_col22\" class=\"data row3 col22\" >0</td>\n",
       "      <td id=\"T_e272a_row3_col23\" class=\"data row3 col23\" >0</td>\n",
       "    </tr>\n",
       "    <tr>\n",
       "      <th id=\"T_e272a_level0_row4\" class=\"row_heading level0 row4\" >4</th>\n",
       "      <td id=\"T_e272a_row4_col0\" class=\"data row4 col0\" >5</td>\n",
       "      <td id=\"T_e272a_row4_col1\" class=\"data row4 col1\" >Copycat (1995)</td>\n",
       "      <td id=\"T_e272a_row4_col2\" class=\"data row4 col2\" >01-Jan-1995</td>\n",
       "      <td id=\"T_e272a_row4_col3\" class=\"data row4 col3\" >nan</td>\n",
       "      <td id=\"T_e272a_row4_col4\" class=\"data row4 col4\" >http://us.imdb.com/M/title-exact?Copycat%20(1995)</td>\n",
       "      <td id=\"T_e272a_row4_col5\" class=\"data row4 col5\" >0</td>\n",
       "      <td id=\"T_e272a_row4_col6\" class=\"data row4 col6\" >0</td>\n",
       "      <td id=\"T_e272a_row4_col7\" class=\"data row4 col7\" >0</td>\n",
       "      <td id=\"T_e272a_row4_col8\" class=\"data row4 col8\" >0</td>\n",
       "      <td id=\"T_e272a_row4_col9\" class=\"data row4 col9\" >0</td>\n",
       "      <td id=\"T_e272a_row4_col10\" class=\"data row4 col10\" >0</td>\n",
       "      <td id=\"T_e272a_row4_col11\" class=\"data row4 col11\" >1</td>\n",
       "      <td id=\"T_e272a_row4_col12\" class=\"data row4 col12\" >0</td>\n",
       "      <td id=\"T_e272a_row4_col13\" class=\"data row4 col13\" >1</td>\n",
       "      <td id=\"T_e272a_row4_col14\" class=\"data row4 col14\" >0</td>\n",
       "      <td id=\"T_e272a_row4_col15\" class=\"data row4 col15\" >0</td>\n",
       "      <td id=\"T_e272a_row4_col16\" class=\"data row4 col16\" >0</td>\n",
       "      <td id=\"T_e272a_row4_col17\" class=\"data row4 col17\" >0</td>\n",
       "      <td id=\"T_e272a_row4_col18\" class=\"data row4 col18\" >0</td>\n",
       "      <td id=\"T_e272a_row4_col19\" class=\"data row4 col19\" >0</td>\n",
       "      <td id=\"T_e272a_row4_col20\" class=\"data row4 col20\" >0</td>\n",
       "      <td id=\"T_e272a_row4_col21\" class=\"data row4 col21\" >1</td>\n",
       "      <td id=\"T_e272a_row4_col22\" class=\"data row4 col22\" >0</td>\n",
       "      <td id=\"T_e272a_row4_col23\" class=\"data row4 col23\" >0</td>\n",
       "    </tr>\n",
       "  </tbody>\n",
       "</table>\n",
       "</td><td style='width:50.0%;vertical-align:top;border:0px'></td></tr></table>"
      ],
      "text/plain": [
       "<IPython.core.display.HTML object>"
      ]
     },
     "metadata": {},
     "output_type": "display_data"
    }
   ],
   "source": [
    "grid_df_display(\n",
    "    list_df = [user_df, ratings_df, movies_df],\n",
    "    list_df_name = ['user_df', 'ratings_df', 'movies_df'],\n",
    "    list_number_of_data = [5, 5, 5],\n",
    "    row=2, col=2, fill='row'\n",
    ")"
   ]
  },
  {
   "cell_type": "markdown",
   "metadata": {
    "id": "5YZ2q5RXYNI6"
   },
   "source": [
    "We also do some housekeeping to prepare feature vocabularies."
   ]
  },
  {
   "cell_type": "code",
   "execution_count": 5,
   "metadata": {
    "execution": {
     "iopub.execute_input": "2022-04-26T16:10:00.343776Z",
     "iopub.status.busy": "2022-04-26T16:10:00.342776Z",
     "iopub.status.idle": "2022-04-26T16:10:00.369776Z",
     "shell.execute_reply": "2022-04-26T16:10:00.367774Z",
     "shell.execute_reply.started": "2022-04-26T16:10:00.343776Z"
    },
    "tags": []
   },
   "outputs": [],
   "source": [
    "hash_table = {'F':0, 'M':1}\n",
    "user_df['user_gender'] = user_df['gender'].map(hash_table.get)"
   ]
  },
  {
   "cell_type": "code",
   "execution_count": 6,
   "metadata": {
    "execution": {
     "iopub.execute_input": "2022-04-26T16:10:00.373773Z",
     "iopub.status.busy": "2022-04-26T16:10:00.372772Z",
     "iopub.status.idle": "2022-04-26T16:10:00.402767Z",
     "shell.execute_reply": "2022-04-26T16:10:00.400767Z",
     "shell.execute_reply.started": "2022-04-26T16:10:00.373773Z"
    },
    "tags": []
   },
   "outputs": [],
   "source": [
    "bins = [0, 18, 25, 35, 45, 50, 55, float('inf')]\n",
    "user_df['user_bucketized_age'] = pd.cut(user_df['age'], bins, labels=[1, 18, 25, 35, 45, 50, 56], retbins=False)"
   ]
  },
  {
   "cell_type": "code",
   "execution_count": 7,
   "metadata": {
    "execution": {
     "iopub.execute_input": "2022-04-26T16:10:00.417766Z",
     "iopub.status.busy": "2022-04-26T16:10:00.409767Z",
     "iopub.status.idle": "2022-04-26T16:10:00.474862Z",
     "shell.execute_reply": "2022-04-26T16:10:00.473863Z",
     "shell.execute_reply.started": "2022-04-26T16:10:00.417766Z"
    },
    "tags": []
   },
   "outputs": [
    {
     "data": {
      "text/html": [
       "<div>\n",
       "<style scoped>\n",
       "    .dataframe tbody tr th:only-of-type {\n",
       "        vertical-align: middle;\n",
       "    }\n",
       "\n",
       "    .dataframe tbody tr th {\n",
       "        vertical-align: top;\n",
       "    }\n",
       "\n",
       "    .dataframe thead th {\n",
       "        text-align: right;\n",
       "    }\n",
       "</style>\n",
       "<table border=\"1\" class=\"dataframe\">\n",
       "  <thead>\n",
       "    <tr style=\"text-align: right;\">\n",
       "      <th></th>\n",
       "      <th>user_id</th>\n",
       "      <th>age</th>\n",
       "      <th>gender</th>\n",
       "      <th>user_occupation_text</th>\n",
       "      <th>user_zip_code</th>\n",
       "      <th>user_gender</th>\n",
       "      <th>user_bucketized_age</th>\n",
       "    </tr>\n",
       "  </thead>\n",
       "  <tbody>\n",
       "    <tr>\n",
       "      <th>0</th>\n",
       "      <td>1</td>\n",
       "      <td>24</td>\n",
       "      <td>M</td>\n",
       "      <td>technician</td>\n",
       "      <td>85711</td>\n",
       "      <td>1</td>\n",
       "      <td>18</td>\n",
       "    </tr>\n",
       "    <tr>\n",
       "      <th>1</th>\n",
       "      <td>2</td>\n",
       "      <td>53</td>\n",
       "      <td>F</td>\n",
       "      <td>other</td>\n",
       "      <td>94043</td>\n",
       "      <td>0</td>\n",
       "      <td>50</td>\n",
       "    </tr>\n",
       "    <tr>\n",
       "      <th>2</th>\n",
       "      <td>3</td>\n",
       "      <td>23</td>\n",
       "      <td>M</td>\n",
       "      <td>writer</td>\n",
       "      <td>32067</td>\n",
       "      <td>1</td>\n",
       "      <td>18</td>\n",
       "    </tr>\n",
       "    <tr>\n",
       "      <th>3</th>\n",
       "      <td>4</td>\n",
       "      <td>24</td>\n",
       "      <td>M</td>\n",
       "      <td>technician</td>\n",
       "      <td>43537</td>\n",
       "      <td>1</td>\n",
       "      <td>18</td>\n",
       "    </tr>\n",
       "    <tr>\n",
       "      <th>4</th>\n",
       "      <td>5</td>\n",
       "      <td>33</td>\n",
       "      <td>F</td>\n",
       "      <td>other</td>\n",
       "      <td>15213</td>\n",
       "      <td>0</td>\n",
       "      <td>25</td>\n",
       "    </tr>\n",
       "  </tbody>\n",
       "</table>\n",
       "</div>"
      ],
      "text/plain": [
       "   user_id  age gender user_occupation_text user_zip_code  user_gender  \\\n",
       "0        1   24      M           technician         85711            1   \n",
       "1        2   53      F                other         94043            0   \n",
       "2        3   23      M               writer         32067            1   \n",
       "3        4   24      M           technician         43537            1   \n",
       "4        5   33      F                other         15213            0   \n",
       "\n",
       "  user_bucketized_age  \n",
       "0                  18  \n",
       "1                  50  \n",
       "2                  18  \n",
       "3                  18  \n",
       "4                  25  "
      ]
     },
     "execution_count": 7,
     "metadata": {},
     "output_type": "execute_result"
    }
   ],
   "source": [
    "user_df.head()"
   ]
  },
  {
   "cell_type": "code",
   "execution_count": 8,
   "metadata": {
    "execution": {
     "iopub.execute_input": "2022-04-26T16:10:00.477861Z",
     "iopub.status.busy": "2022-04-26T16:10:00.476861Z",
     "iopub.status.idle": "2022-04-26T16:10:00.700050Z",
     "shell.execute_reply": "2022-04-26T16:10:00.695052Z",
     "shell.execute_reply.started": "2022-04-26T16:10:00.477861Z"
    },
    "tags": []
   },
   "outputs": [],
   "source": [
    "ratings_df = pd.merge(ratings_df, movies_df, on='movie_id', how='left')\n",
    "ratings_df = pd.merge(ratings_df, user_df, on='user_id', how='left')"
   ]
  },
  {
   "cell_type": "code",
   "execution_count": 9,
   "metadata": {
    "execution": {
     "iopub.execute_input": "2022-04-26T16:10:00.704053Z",
     "iopub.status.busy": "2022-04-26T16:10:00.704053Z",
     "iopub.status.idle": "2022-04-26T16:10:00.773038Z",
     "shell.execute_reply": "2022-04-26T16:10:00.772038Z",
     "shell.execute_reply.started": "2022-04-26T16:10:00.704053Z"
    },
    "tags": []
   },
   "outputs": [
    {
     "data": {
      "text/html": [
       "<div>\n",
       "<style scoped>\n",
       "    .dataframe tbody tr th:only-of-type {\n",
       "        vertical-align: middle;\n",
       "    }\n",
       "\n",
       "    .dataframe tbody tr th {\n",
       "        vertical-align: top;\n",
       "    }\n",
       "\n",
       "    .dataframe thead th {\n",
       "        text-align: right;\n",
       "    }\n",
       "</style>\n",
       "<table border=\"1\" class=\"dataframe\">\n",
       "  <thead>\n",
       "    <tr style=\"text-align: right;\">\n",
       "      <th></th>\n",
       "      <th>user_id</th>\n",
       "      <th>movie_id</th>\n",
       "      <th>user_rating</th>\n",
       "      <th>timestamp</th>\n",
       "      <th>movie_title</th>\n",
       "      <th>release_data</th>\n",
       "      <th>video_release_date</th>\n",
       "      <th>IMDb_URL</th>\n",
       "      <th>unknow</th>\n",
       "      <th>Action</th>\n",
       "      <th>...</th>\n",
       "      <th>Sci-Fi</th>\n",
       "      <th>Thriller</th>\n",
       "      <th>War</th>\n",
       "      <th>Western</th>\n",
       "      <th>age</th>\n",
       "      <th>gender</th>\n",
       "      <th>user_occupation_text</th>\n",
       "      <th>user_zip_code</th>\n",
       "      <th>user_gender</th>\n",
       "      <th>user_bucketized_age</th>\n",
       "    </tr>\n",
       "  </thead>\n",
       "  <tbody>\n",
       "    <tr>\n",
       "      <th>0</th>\n",
       "      <td>196</td>\n",
       "      <td>242</td>\n",
       "      <td>3</td>\n",
       "      <td>881250949</td>\n",
       "      <td>Kolya (1996)</td>\n",
       "      <td>24-Jan-1997</td>\n",
       "      <td>NaN</td>\n",
       "      <td>http://us.imdb.com/M/title-exact?Kolya%20(1996)</td>\n",
       "      <td>0</td>\n",
       "      <td>0</td>\n",
       "      <td>...</td>\n",
       "      <td>0</td>\n",
       "      <td>0</td>\n",
       "      <td>0</td>\n",
       "      <td>0</td>\n",
       "      <td>49</td>\n",
       "      <td>M</td>\n",
       "      <td>writer</td>\n",
       "      <td>55105</td>\n",
       "      <td>1</td>\n",
       "      <td>45</td>\n",
       "    </tr>\n",
       "    <tr>\n",
       "      <th>1</th>\n",
       "      <td>186</td>\n",
       "      <td>302</td>\n",
       "      <td>3</td>\n",
       "      <td>891717742</td>\n",
       "      <td>L.A. Confidential (1997)</td>\n",
       "      <td>01-Jan-1997</td>\n",
       "      <td>NaN</td>\n",
       "      <td>http://us.imdb.com/M/title-exact?L%2EA%2E+Conf...</td>\n",
       "      <td>0</td>\n",
       "      <td>0</td>\n",
       "      <td>...</td>\n",
       "      <td>0</td>\n",
       "      <td>1</td>\n",
       "      <td>0</td>\n",
       "      <td>0</td>\n",
       "      <td>39</td>\n",
       "      <td>F</td>\n",
       "      <td>executive</td>\n",
       "      <td>00000</td>\n",
       "      <td>0</td>\n",
       "      <td>35</td>\n",
       "    </tr>\n",
       "    <tr>\n",
       "      <th>2</th>\n",
       "      <td>22</td>\n",
       "      <td>377</td>\n",
       "      <td>1</td>\n",
       "      <td>878887116</td>\n",
       "      <td>Heavyweights (1994)</td>\n",
       "      <td>01-Jan-1994</td>\n",
       "      <td>NaN</td>\n",
       "      <td>http://us.imdb.com/M/title-exact?Heavyweights%...</td>\n",
       "      <td>0</td>\n",
       "      <td>0</td>\n",
       "      <td>...</td>\n",
       "      <td>0</td>\n",
       "      <td>0</td>\n",
       "      <td>0</td>\n",
       "      <td>0</td>\n",
       "      <td>25</td>\n",
       "      <td>M</td>\n",
       "      <td>writer</td>\n",
       "      <td>40206</td>\n",
       "      <td>1</td>\n",
       "      <td>18</td>\n",
       "    </tr>\n",
       "  </tbody>\n",
       "</table>\n",
       "<p>3 rows × 33 columns</p>\n",
       "</div>"
      ],
      "text/plain": [
       "   user_id  movie_id  user_rating  timestamp               movie_title  \\\n",
       "0      196       242            3  881250949              Kolya (1996)   \n",
       "1      186       302            3  891717742  L.A. Confidential (1997)   \n",
       "2       22       377            1  878887116       Heavyweights (1994)   \n",
       "\n",
       "  release_data  video_release_date  \\\n",
       "0  24-Jan-1997                 NaN   \n",
       "1  01-Jan-1997                 NaN   \n",
       "2  01-Jan-1994                 NaN   \n",
       "\n",
       "                                            IMDb_URL  unknow  Action  ...  \\\n",
       "0    http://us.imdb.com/M/title-exact?Kolya%20(1996)       0       0  ...   \n",
       "1  http://us.imdb.com/M/title-exact?L%2EA%2E+Conf...       0       0  ...   \n",
       "2  http://us.imdb.com/M/title-exact?Heavyweights%...       0       0  ...   \n",
       "\n",
       "   Sci-Fi  Thriller  War  Western  age  gender  user_occupation_text  \\\n",
       "0       0         0    0        0   49       M                writer   \n",
       "1       0         1    0        0   39       F             executive   \n",
       "2       0         0    0        0   25       M                writer   \n",
       "\n",
       "   user_zip_code  user_gender  user_bucketized_age  \n",
       "0          55105            1                   45  \n",
       "1          00000            0                   35  \n",
       "2          40206            1                   18  \n",
       "\n",
       "[3 rows x 33 columns]"
      ]
     },
     "execution_count": 9,
     "metadata": {},
     "output_type": "execute_result"
    }
   ],
   "source": [
    "ratings_df.head(3)"
   ]
  },
  {
   "cell_type": "markdown",
   "metadata": {},
   "source": [
    "## Data processing"
   ]
  },
  {
   "cell_type": "code",
   "execution_count": 10,
   "metadata": {
    "execution": {
     "iopub.execute_input": "2022-04-26T16:10:00.777041Z",
     "iopub.status.busy": "2022-04-26T16:10:00.775039Z",
     "iopub.status.idle": "2022-04-26T16:10:01.069992Z",
     "shell.execute_reply": "2022-04-26T16:10:01.068993Z",
     "shell.execute_reply.started": "2022-04-26T16:10:00.777041Z"
    },
    "tags": []
   },
   "outputs": [],
   "source": [
    "ratings_df = ratings_df.astype({'user_id': str, 'movie_id': str})"
   ]
  },
  {
   "cell_type": "code",
   "execution_count": 11,
   "metadata": {
    "execution": {
     "iopub.execute_input": "2022-04-26T16:10:01.072993Z",
     "iopub.status.busy": "2022-04-26T16:10:01.072993Z",
     "iopub.status.idle": "2022-04-26T16:10:01.117986Z",
     "shell.execute_reply": "2022-04-26T16:10:01.116986Z",
     "shell.execute_reply.started": "2022-04-26T16:10:01.072993Z"
    },
    "tags": []
   },
   "outputs": [],
   "source": [
    "temp = ratings_df.groupby(['user_id'])['user_rating']\n",
    "mins = temp.transform('min')\n",
    "maxes = temp.transform('max')\n",
    "# plus 0.01 is to avoid get the zero values\n",
    "user_normalized_rating = ( (ratings_df['user_rating'] - mins) / maxes ) + 0.01\n",
    "ratings_df['user_normalized_rating'] = user_normalized_rating"
   ]
  },
  {
   "cell_type": "code",
   "execution_count": 12,
   "metadata": {
    "execution": {
     "iopub.execute_input": "2022-04-26T16:10:01.120985Z",
     "iopub.status.busy": "2022-04-26T16:10:01.119985Z",
     "iopub.status.idle": "2022-04-26T16:10:01.523922Z",
     "shell.execute_reply": "2022-04-26T16:10:01.522922Z",
     "shell.execute_reply.started": "2022-04-26T16:10:01.120985Z"
    },
    "tags": []
   },
   "outputs": [],
   "source": [
    "train_ratings_df = ratings_df.sort_values('timestamp').head(80000)\n",
    "test_ratings_df = ratings_df.sort_values('timestamp').tail(20000)"
   ]
  },
  {
   "cell_type": "code",
   "execution_count": 13,
   "metadata": {
    "execution": {
     "iopub.execute_input": "2022-04-26T16:10:01.531999Z",
     "iopub.status.busy": "2022-04-26T16:10:01.530921Z",
     "iopub.status.idle": "2022-04-26T16:10:01.818038Z",
     "shell.execute_reply": "2022-04-26T16:10:01.816039Z",
     "shell.execute_reply.started": "2022-04-26T16:10:01.531999Z"
    },
    "tags": []
   },
   "outputs": [],
   "source": [
    "train_ratings_df = train_ratings_df[['movie_title', 'user_id', 'timestamp', 'user_normalized_rating', 'user_gender', 'user_zip_code', 'user_occupation_text', 'user_bucketized_age']]\n",
    "train_movies_df = pd.DataFrame(train_ratings_df['movie_title'].unique(), columns=['movie_title'])"
   ]
  },
  {
   "cell_type": "code",
   "execution_count": 14,
   "metadata": {
    "execution": {
     "iopub.execute_input": "2022-04-26T16:10:01.821039Z",
     "iopub.status.busy": "2022-04-26T16:10:01.820039Z",
     "iopub.status.idle": "2022-04-26T16:10:02.862256Z",
     "shell.execute_reply": "2022-04-26T16:10:02.861256Z",
     "shell.execute_reply.started": "2022-04-26T16:10:01.821039Z"
    },
    "tags": []
   },
   "outputs": [],
   "source": [
    "# Select the basic features.\n",
    "ratings = tf.data.Dataset.from_tensor_slices(dict(train_ratings_df)).map(lambda x: {\n",
    "    'movie_title': x['movie_title'],\n",
    "    'user_id': x['user_id'],\n",
    "    'user_timestamp': x['timestamp'],\n",
    "    'user_normalized_rating': x['user_normalized_rating'],\n",
    "    'user_gender': x['user_gender'],\n",
    "    'user_zip_code': x['user_zip_code'],\n",
    "    'user_occupation_text': x['user_occupation_text'],\n",
    "    'user_bucketized_age': x['user_bucketized_age'],\n",
    "})\n",
    "\n",
    "movies = tf.data.Dataset.from_tensor_slices(dict(train_movies_df)).map(lambda x: x['movie_title'])"
   ]
  },
  {
   "cell_type": "code",
   "execution_count": 15,
   "metadata": {
    "execution": {
     "iopub.execute_input": "2022-04-26T16:10:02.868257Z",
     "iopub.status.busy": "2022-04-26T16:10:02.868257Z",
     "iopub.status.idle": "2022-04-26T16:10:18.441430Z",
     "shell.execute_reply": "2022-04-26T16:10:18.441430Z",
     "shell.execute_reply.started": "2022-04-26T16:10:02.868257Z"
    },
    "id": "G5CVveCS9Doq",
    "tags": []
   },
   "outputs": [],
   "source": [
    "# 透過 tensorflow 的 batch 函數，將每一組 tensor 裡的值，轉化成含有一個 array 的 tensor\n",
    "# 再透過 list 函數得到迭代結果，並透過 np.concatenate 函數將資料整成一個 array\n",
    "user_timestamp = np.concatenate(list(ratings.map(lambda x: x['user_timestamp']).batch(1_000)))\n",
    "\n",
    "max_timestamp = user_timestamp.max()\n",
    "min_timestamp = user_timestamp.min()\n",
    "\n",
    "timestamp_buckets = np.linspace(\n",
    "    min_timestamp, max_timestamp, num=1_000,\n",
    ")\n",
    "\n",
    "user_normalized_rating = np.concatenate(list(\n",
    "    ratings.map(lambda x: x['user_normalized_rating']).batch(1_000)\n",
    "))\n",
    "\n",
    "\n",
    "unique_user_gender = np.unique(np.concatenate(list(\n",
    "    ratings.map(lambda x: x['user_gender']).batch(1_000)\n",
    ")))\n",
    "\n",
    "\n",
    "unique_user_zip_code = np.unique(np.concatenate(list(\n",
    "    ratings.map(lambda x: x['user_zip_code']).batch(1_000)\n",
    ")))\n",
    "\n",
    "\n",
    "unique_user_occupation_text = np.unique(np.concatenate(list(\n",
    "    ratings.map(lambda x: x['user_occupation_text']).batch(1_000)\n",
    ")))\n",
    "\n",
    "\n",
    "unique_user_bucketized_age = np.unique(np.concatenate(list(\n",
    "    ratings.map(lambda x: x['user_bucketized_age']).batch(1_000)\n",
    ")))\n",
    "\n",
    "\n",
    "unique_movie_titles = np.unique(np.concatenate(list(\n",
    "    movies.batch(1_000)\n",
    ")))\n",
    "\n",
    "unique_user_ids = np.unique(np.concatenate(list(\n",
    "    ratings.batch(1_000).map(lambda x: x['user_id'])\n",
    ")))"
   ]
  },
  {
   "cell_type": "markdown",
   "metadata": {
    "id": "mFJcCVMUQou3"
   },
   "source": [
    "## Model definition\n",
    "<div>\n",
    "  <center>\n",
    "    <img src='../Img/retrieval_model.PNG' width='50%' style='display:block' title='retrieval model'>\n",
    "  </center>\n",
    "</div>"
   ]
  },
  {
   "cell_type": "markdown",
   "metadata": {
    "id": "PtS6a4sgmI-c"
   },
   "source": [
    "### Query model\n",
    "\n",
    "We start with the user model defined in [the featurization tutorial](featurization) as the first layer of our model, tasked with converting raw input examples into feature embeddings."
   ]
  },
  {
   "cell_type": "code",
   "execution_count": 16,
   "metadata": {
    "execution": {
     "iopub.execute_input": "2022-04-26T16:10:18.444435Z",
     "iopub.status.busy": "2022-04-26T16:10:18.443433Z",
     "iopub.status.idle": "2022-04-26T16:10:18.474429Z",
     "shell.execute_reply": "2022-04-26T16:10:18.473430Z",
     "shell.execute_reply.started": "2022-04-26T16:10:18.444435Z"
    },
    "id": "_ItzYwMW42cb",
    "tags": []
   },
   "outputs": [],
   "source": [
    "class UserModel(tf.keras.Model):\n",
    "  \n",
    "    def __init__(self):\n",
    "        super().__init__()\n",
    "\n",
    "        self.user_embedding = tf.keras.Sequential([\n",
    "            tf.keras.layers.StringLookup(\n",
    "                vocabulary=unique_user_ids, mask_token=None),\n",
    "            tf.keras.layers.Embedding(len(unique_user_ids) + 1, 32),\n",
    "        ])\n",
    "\n",
    "        # 先將 timestamp 區間化，然後再透過區間化後的 index 轉成 embedding 向量\n",
    "        self.timestamp_embedding = tf.keras.Sequential([\n",
    "            tf.keras.layers.Discretization(timestamp_buckets.tolist()),\n",
    "            tf.keras.layers.Embedding(len(timestamp_buckets) + 1, 32),\n",
    "        ])\n",
    "\n",
    "        # 直接將 timestamp 標準化\n",
    "        self.normalized_timestamp = tf.keras.layers.Normalization(\n",
    "            axis=None\n",
    "        )\n",
    "        # 當你需要標準化參數時，你會需要完整的資料，所以這時可以透過 adapt() 這個函數來讓我們的 layer 獲得初始化得參數\n",
    "        self.normalized_timestamp.adapt(user_timestamp)\n",
    "\n",
    "        # user_gender\n",
    "        self.gender_one_hot = tf.keras.Sequential([\n",
    "            tf.keras.layers.IntegerLookup(\n",
    "                vocabulary=unique_user_gender, mask_token=None),\n",
    "            tf.keras.layers.Embedding(\n",
    "                len(unique_user_gender)+1,\n",
    "                len(unique_user_gender),\n",
    "                embeddings_initializer='identity')  # use one-hot method to create embedding layer\n",
    "        ])\n",
    "\n",
    "\n",
    "        # user_zip_code\n",
    "        self.zip_code_one_hot = tf.keras.Sequential([\n",
    "            tf.keras.layers.StringLookup(\n",
    "                vocabulary=unique_user_zip_code,\n",
    "                mask_token=None),\n",
    "            tf.keras.layers.Embedding(\n",
    "                len(unique_user_zip_code)+1,  # input dimension\n",
    "                len(unique_user_zip_code),  # output dimension\n",
    "                embeddings_initializer='identity')  # use one-hot method to create embedding layer\n",
    "        ])\n",
    "\n",
    "\n",
    "        # user_occupation_text\n",
    "        self.occupation_text_one_hot = tf.keras.Sequential([\n",
    "            tf.keras.layers.StringLookup(\n",
    "                vocabulary=unique_user_occupation_text, mask_token=None),\n",
    "            tf.keras.layers.Embedding(\n",
    "                len(unique_user_occupation_text)+1,\n",
    "                32\n",
    "            )  \n",
    "        ])\n",
    "\n",
    "\n",
    "        # user_bucketized_age\n",
    "        self.bucketized_age_one_hot = tf.keras.Sequential([\n",
    "            tf.keras.layers.IntegerLookup(\n",
    "                vocabulary=unique_user_bucketized_age, mask_token=None),\n",
    "            tf.keras.layers.Embedding(\n",
    "                len(unique_user_bucketized_age)+1,\n",
    "                len(unique_user_bucketized_age),\n",
    "                embeddings_initializer='identity')  # use one-hot method to create embedding layer\n",
    "        ])\n",
    "\n",
    "    \n",
    "    \n",
    "    def call(self, inputs):\n",
    "        # Take the input dictionary, pass it through each input layer,\n",
    "        # and concatenate the result.\n",
    "        return tf.concat([\n",
    "            self.user_embedding(inputs['user_id']),\n",
    "            tf.reshape(inputs['user_normalized_rating'], (-1, 1)),\n",
    "            self.timestamp_embedding(inputs['user_timestamp']),\n",
    "            tf.reshape(self.normalized_timestamp(inputs['user_timestamp']), (-1, 1)),\n",
    "            self.gender_one_hot(inputs['user_gender']),\n",
    "            self.zip_code_one_hot(inputs['user_zip_code']),\n",
    "            self.occupation_text_one_hot(inputs['user_occupation_text']),\n",
    "            self.bucketized_age_one_hot(inputs['user_bucketized_age'])\n",
    "        ], axis=1)\n",
    "    "
   ]
  },
  {
   "cell_type": "markdown",
   "metadata": {
    "id": "hMQzxLqh42on"
   },
   "source": [
    "Defining deeper models will require us to stack mode layers on top of this first input. A progressively narrower stack of layers, separated by an activation function, is a common pattern:\n",
    "\n",
    "```\n",
    "                            +----------------------+\n",
    "                            |      128 x 64        |\n",
    "                            +----------------------+\n",
    "                                       | relu\n",
    "                          +--------------------------+\n",
    "                          |        256 x 128         |\n",
    "                          +--------------------------+\n",
    "                                       | relu\n",
    "                        +------------------------------+\n",
    "                        |          ... x 256           |\n",
    "                        +------------------------------+\n",
    "```\n",
    "Since the expressive power of deep linear models is no greater than that of shallow linear models, we use ReLU activations for all but the last hidden layer. The final hidden layer does not use any activation function: using an activation function would limit the output space of the final embeddings and might negatively impact the performance of the model. For instance, if ReLUs are used in the projection layer, all components in the output embedding would be non-negative.\n",
    "\n",
    "We're going to try something similar here. To make experimentation with different depths easy, let's define a model whose depth (and width) is defined by a set of constructor parameters. "
   ]
  },
  {
   "cell_type": "code",
   "execution_count": 17,
   "metadata": {
    "execution": {
     "iopub.execute_input": "2022-04-26T16:10:18.479429Z",
     "iopub.status.busy": "2022-04-26T16:10:18.477428Z",
     "iopub.status.idle": "2022-04-26T16:10:18.507425Z",
     "shell.execute_reply": "2022-04-26T16:10:18.505425Z",
     "shell.execute_reply.started": "2022-04-26T16:10:18.479429Z"
    },
    "id": "5qfPi4I-Z0ph",
    "tags": []
   },
   "outputs": [],
   "source": [
    "class QueryModel(tf.keras.Model):\n",
    "    \"\"\"Model for encoding user queries.\"\"\"\n",
    "\n",
    "    def __init__(self, layer_sizes):\n",
    "        \"\"\"Model for encoding user queries.\n",
    "\n",
    "        Args:\n",
    "          layer_sizes:\n",
    "            A list of integers where the i-th entry represents the number of units\n",
    "            the i-th layer contains.\n",
    "        \"\"\"\n",
    "        super().__init__()\n",
    "\n",
    "        # We first use the user model for generating embeddings.\n",
    "        self.embedding_model = UserModel()\n",
    "\n",
    "        # Then construct the layers.\n",
    "        self.dense_layers = tf.keras.Sequential()\n",
    "\n",
    "        # Use the ReLU activation for all but the last layer.\n",
    "        for layer_size in layer_sizes[:-1]:\n",
    "            self.dense_layers.add(tf.keras.layers.Dense(layer_size, activation='relu'))\n",
    "\n",
    "        # No activation for the last layer.\n",
    "        for layer_size in layer_sizes[-1:]:\n",
    "            self.dense_layers.add(tf.keras.layers.Dense(layer_size))\n",
    "\n",
    "    def call(self, inputs):\n",
    "        feature_embedding = self.embedding_model(inputs)\n",
    "        return self.dense_layers(feature_embedding)"
   ]
  },
  {
   "cell_type": "markdown",
   "metadata": {
    "id": "B9IqNTLmpJzs"
   },
   "source": [
    "The `layer_sizes` parameter gives us the depth and width of the model. We can vary it to experiment with shallower or deeper models."
   ]
  },
  {
   "cell_type": "markdown",
   "metadata": {
    "id": "XleMceZNHC__"
   },
   "source": [
    "### Candidate model\n",
    "\n",
    "We can adopt the same approach for the movie model. Again, we start with the `MovieModel` from the [featurization](featurization) tutorial:"
   ]
  },
  {
   "cell_type": "code",
   "execution_count": 18,
   "metadata": {
    "execution": {
     "iopub.execute_input": "2022-04-26T16:10:18.513425Z",
     "iopub.status.busy": "2022-04-26T16:10:18.512423Z",
     "iopub.status.idle": "2022-04-26T16:10:18.538419Z",
     "shell.execute_reply": "2022-04-26T16:10:18.537419Z",
     "shell.execute_reply.started": "2022-04-26T16:10:18.513425Z"
    },
    "id": "oQZHX8bEHPOk",
    "tags": []
   },
   "outputs": [],
   "source": [
    "class MovieModel(tf.keras.Model):\n",
    "  \n",
    "    def __init__(self):\n",
    "        super().__init__()\n",
    "\n",
    "        max_tokens = 10_000  # item unique 的數量\n",
    "\n",
    "        self.title_embedding = tf.keras.Sequential([\n",
    "            tf.keras.layers.StringLookup(\n",
    "                vocabulary=unique_movie_titles,mask_token=None),\n",
    "            tf.keras.layers.Embedding(len(unique_movie_titles) + 1, 32)\n",
    "        ])\n",
    "        \n",
    "        # A preprocessing layer which maps text features to integer sequences.\n",
    "        self.title_vectorizer = tf.keras.layers.TextVectorization(\n",
    "            max_tokens=max_tokens)\n",
    "\n",
    "        self.title_text_embedding = tf.keras.Sequential([\n",
    "            self.title_vectorizer,\n",
    "            tf.keras.layers.Embedding(max_tokens, 32, mask_zero=True),\n",
    "            tf.keras.layers.GlobalAveragePooling1D(),\n",
    "        ])\n",
    "\n",
    "        self.title_vectorizer.adapt(movies)\n",
    "\n",
    "    def call(self, titles):\n",
    "        return tf.concat([\n",
    "            self.title_embedding(titles),\n",
    "            self.title_text_embedding(titles),\n",
    "        ], axis=1)"
   ]
  },
  {
   "cell_type": "markdown",
   "metadata": {
    "id": "x6vssqPYp-gY"
   },
   "source": [
    "And expand it with hidden layers:"
   ]
  },
  {
   "cell_type": "code",
   "execution_count": 19,
   "metadata": {
    "execution": {
     "iopub.execute_input": "2022-04-26T16:10:18.542419Z",
     "iopub.status.busy": "2022-04-26T16:10:18.541421Z",
     "iopub.status.idle": "2022-04-26T16:10:18.571414Z",
     "shell.execute_reply": "2022-04-26T16:10:18.569414Z",
     "shell.execute_reply.started": "2022-04-26T16:10:18.542419Z"
    },
    "id": "l1gTXkvQqHGA",
    "tags": []
   },
   "outputs": [],
   "source": [
    "class CandidateModel(tf.keras.Model):\n",
    "    \"\"\"Model for encoding movies.\"\"\"\n",
    "\n",
    "    def __init__(self, layer_sizes):\n",
    "        \"\"\"Model for encoding movies.\n",
    "\n",
    "        Args:\n",
    "          layer_sizes:\n",
    "            A list of integers where the i-th entry represents the number of units\n",
    "            the i-th layer contains.\n",
    "        \"\"\"\n",
    "        super().__init__()\n",
    "\n",
    "        self.embedding_model = MovieModel()\n",
    "\n",
    "        # Then construct the layers.\n",
    "        self.dense_layers = tf.keras.Sequential()\n",
    "\n",
    "        # Use the ReLU activation for all but the last layer.\n",
    "        for layer_size in layer_sizes[:-1]:\n",
    "            self.dense_layers.add(tf.keras.layers.Dense(layer_size, activation=\"relu\"))\n",
    "\n",
    "        # No activation for the last layer.\n",
    "        for layer_size in layer_sizes[-1:]: # 最後一層\n",
    "            self.dense_layers.add(tf.keras.layers.Dense(layer_size))\n",
    "\n",
    "    def call(self, inputs):\n",
    "        feature_embedding = self.embedding_model(inputs)\n",
    "        return self.dense_layers(feature_embedding)"
   ]
  },
  {
   "cell_type": "markdown",
   "metadata": {
    "id": "Cc4KbTNwHSvD"
   },
   "source": [
    "### Combined model\n",
    "\n",
    "With both `QueryModel` and `CandidateModel` defined, we can put together a combined model and implement our loss and metrics logic. To make things simple, we'll enforce that the model structure is the same across the query and candidate models."
   ]
  },
  {
   "cell_type": "code",
   "execution_count": 20,
   "metadata": {
    "execution": {
     "iopub.execute_input": "2022-04-26T16:10:18.576413Z",
     "iopub.status.busy": "2022-04-26T16:10:18.575414Z",
     "iopub.status.idle": "2022-04-26T16:10:18.620406Z",
     "shell.execute_reply": "2022-04-26T16:10:18.618407Z",
     "shell.execute_reply.started": "2022-04-26T16:10:18.576413Z"
    },
    "id": "26_hNJPKIh4-",
    "tags": []
   },
   "outputs": [],
   "source": [
    "class MovielensModel(tfrs.models.Model):\n",
    "\n",
    "    def __init__(self, layer_sizes):\n",
    "        super().__init__()\n",
    "        self.query_model = QueryModel(layer_sizes)\n",
    "        self.candidate_model = CandidateModel(layer_sizes)\n",
    "        self.task = tfrs.tasks.Retrieval(\n",
    "            metrics=tfrs.metrics.FactorizedTopK(\n",
    "                candidates=movies.batch(128).map(self.candidate_model),\n",
    "            ),\n",
    "        )\n",
    "\n",
    "    def compute_loss(self, features, training=False):\n",
    "        # We only pass the user id and timestamp features into the query model. This\n",
    "        # is to ensure that the training inputs would have the same keys as the\n",
    "        # query inputs. Otherwise the discrepancy in input structure would cause an\n",
    "        # error when loading the query model after saving it.\n",
    "        query_embeddings = self.query_model({\n",
    "            'user_id': features['user_id'],\n",
    "            'user_normalized_rating': features['user_normalized_rating'],\n",
    "            'user_timestamp': features['user_timestamp'],\n",
    "            'user_gender': features['user_gender'],\n",
    "            'user_zip_code': features['user_zip_code'],\n",
    "            'user_occupation_text': features['user_occupation_text'],\n",
    "            'user_bucketized_age': features['user_bucketized_age'],\n",
    "        })\n",
    "        movie_embeddings = self.candidate_model(features['movie_title'])\n",
    "\n",
    "        return self.task(\n",
    "            query_embeddings, movie_embeddings, compute_metrics=not training)"
   ]
  },
  {
   "cell_type": "markdown",
   "metadata": {
    "id": "8YXjsRsLTVzt",
    "tags": []
   },
   "source": [
    "## Training the model"
   ]
  },
  {
   "cell_type": "markdown",
   "metadata": {
    "id": "QY7MTwMruoKh"
   },
   "source": [
    "### Prepare the data\n",
    "\n",
    "We first split the data into a training set and a testing set."
   ]
  },
  {
   "cell_type": "code",
   "execution_count": 21,
   "metadata": {
    "execution": {
     "iopub.execute_input": "2022-04-26T16:10:18.624406Z",
     "iopub.status.busy": "2022-04-26T16:10:18.623406Z",
     "iopub.status.idle": "2022-04-26T16:10:18.680398Z",
     "shell.execute_reply": "2022-04-26T16:10:18.679406Z",
     "shell.execute_reply.started": "2022-04-26T16:10:18.623406Z"
    },
    "id": "wMFUZ4dyTdYd",
    "tags": []
   },
   "outputs": [
    {
     "name": "stdout",
     "output_type": "stream",
     "text": [
      "ratings:  80000\n",
      "cached_train:  70000\n",
      "cached_val:  10000\n"
     ]
    }
   ],
   "source": [
    "tf.random.set_seed(42)\n",
    "shuffled = ratings.shuffle(80_000, seed=42, reshuffle_each_iteration=False)\n",
    "\n",
    "train = shuffled.take(70_000)\n",
    "val = shuffled.skip(70_000).take(10_000)\n",
    "\n",
    "cached_train = train.shuffle(70_000).batch(2048)\n",
    "cached_val = val.batch(4096).cache()\n",
    "print('ratings: ', len(ratings))\n",
    "print('cached_train: ', len(train))\n",
    "print('cached_val: ', len(val))"
   ]
  },
  {
   "cell_type": "markdown",
   "metadata": {
    "id": "I2HEuTBzJ9w5",
    "tags": []
   },
   "source": [
    "### Shallow model\n",
    "\n",
    "We're ready to try out our first, shallow, model!"
   ]
  },
  {
   "cell_type": "code",
   "execution_count": 22,
   "metadata": {
    "execution": {
     "iopub.execute_input": "2022-04-26T16:10:18.690397Z",
     "iopub.status.busy": "2022-04-26T16:10:18.690397Z",
     "iopub.status.idle": "2022-04-26T16:39:18.495824Z",
     "shell.execute_reply": "2022-04-26T16:39:18.494825Z",
     "shell.execute_reply.started": "2022-04-26T16:10:18.690397Z"
    },
    "id": "NkoLkiQdK4Um",
    "tags": []
   },
   "outputs": [
    {
     "name": "stdout",
     "output_type": "stream",
     "text": [
      "Top-100 accuracy: 0.30.\n"
     ]
    }
   ],
   "source": [
    "num_epochs = 300\n",
    "\n",
    "model = MovielensModel([32])\n",
    "model.compile(optimizer=tf.keras.optimizers.Adagrad(0.1))\n",
    "\n",
    "early_stopping_monitor = tf.keras.callbacks.EarlyStopping(monitor='val_loss', patience=20, restore_best_weights=True)\n",
    "\n",
    "one_layer_history = model.fit(\n",
    "    cached_train,\n",
    "    validation_data=cached_val,\n",
    "    validation_freq=5,\n",
    "    epochs=num_epochs,\n",
    "    verbose=0,\n",
    "    # callbacks=[early_stopping_monitor]\n",
    ")\n",
    "\n",
    "accuracy = one_layer_history.history[\"val_factorized_top_k/top_100_categorical_accuracy\"][-1]\n",
    "print(f\"Top-100 accuracy: {accuracy:.2f}.\")"
   ]
  },
  {
   "cell_type": "markdown",
   "metadata": {
    "id": "p90vFk8LvJXp"
   },
   "source": [
    "This gives us a top-100 accuracy of around 0.30. We can use this as a reference point for evaluating deeper models."
   ]
  },
  {
   "cell_type": "markdown",
   "metadata": {
    "id": "BjJ1anzuLXgN"
   },
   "source": [
    "### Deeper model\n",
    "\n",
    "What about a deeper model with two layers?"
   ]
  },
  {
   "cell_type": "code",
   "execution_count": 23,
   "metadata": {
    "execution": {
     "iopub.execute_input": "2022-04-26T16:39:18.498824Z",
     "iopub.status.busy": "2022-04-26T16:39:18.497824Z",
     "iopub.status.idle": "2022-04-26T17:06:35.316220Z",
     "shell.execute_reply": "2022-04-26T17:06:35.315220Z",
     "shell.execute_reply.started": "2022-04-26T16:39:18.498824Z"
    },
    "id": "11qAr5gGMUxE"
   },
   "outputs": [
    {
     "name": "stdout",
     "output_type": "stream",
     "text": [
      "Top-100 accuracy: 0.30.\n"
     ]
    }
   ],
   "source": [
    "model = MovielensModel([64, 32])\n",
    "model.compile(optimizer=tf.keras.optimizers.Adagrad(0.1))\n",
    "\n",
    "two_layer_history = model.fit(\n",
    "    cached_train,\n",
    "    validation_data=cached_val,\n",
    "    validation_freq=5,\n",
    "    epochs=num_epochs,\n",
    "    verbose=0)\n",
    "\n",
    "accuracy = two_layer_history.history[\"val_factorized_top_k/top_100_categorical_accuracy\"][-1]\n",
    "print(f\"Top-100 accuracy: {accuracy:.2f}.\")"
   ]
  },
  {
   "cell_type": "markdown",
   "metadata": {
    "id": "NHnzYfQrOj8I"
   },
   "source": [
    "The accuracy here is 0.29, quite a bit better than the shallow model.\n",
    "\n",
    "We can plot the validation accuracy curves to illustrate this:"
   ]
  },
  {
   "cell_type": "code",
   "execution_count": 24,
   "metadata": {
    "execution": {
     "iopub.execute_input": "2022-04-26T17:06:35.321219Z",
     "iopub.status.busy": "2022-04-26T17:06:35.319220Z",
     "iopub.status.idle": "2022-04-26T17:06:37.317274Z",
     "shell.execute_reply": "2022-04-26T17:06:37.316299Z",
     "shell.execute_reply.started": "2022-04-26T17:06:35.321219Z"
    },
    "id": "xzriiDRlHEvo"
   },
   "outputs": [
    {
     "data": {
      "text/plain": [
       "<matplotlib.legend.Legend at 0x223b5b501f0>"
      ]
     },
     "execution_count": 24,
     "metadata": {},
     "output_type": "execute_result"
    },
    {
     "data": {
      "image/png": "[encoded data removed]",
      "text/plain": [
       "<Figure size 432x288 with 1 Axes>"
      ]
     },
     "metadata": {},
     "output_type": "display_data"
    }
   ],
   "source": [
    "num_validation_runs = len(one_layer_history.history[\"val_factorized_top_k/top_100_categorical_accuracy\"])\n",
    "epochs = [(x + 1)* 5 for x in range(num_validation_runs)]\n",
    "\n",
    "plt.plot(epochs, one_layer_history.history[\"val_factorized_top_k/top_100_categorical_accuracy\"], label=\"1 layer\")\n",
    "plt.plot(epochs, two_layer_history.history[\"val_factorized_top_k/top_100_categorical_accuracy\"], label=\"2 layers\")\n",
    "plt.title(\"Accuracy vs epoch\")\n",
    "plt.xlabel(\"epoch\")\n",
    "plt.ylabel(\"Top-100 accuracy\");\n",
    "plt.legend()"
   ]
  },
  {
   "cell_type": "markdown",
   "metadata": {
    "id": "5ItwGCpXj9YF"
   },
   "source": [
    "Even early on in the training, the larger model has a clear and stable lead over the shallow model, suggesting that adding depth helps the model capture more nuanced relationships in the data.\n",
    "\n",
    "However, even deeper models are not necessarily better. The following model extends the depth to three layers:"
   ]
  },
  {
   "cell_type": "code",
   "execution_count": 25,
   "metadata": {
    "execution": {
     "iopub.execute_input": "2022-04-26T17:06:37.320274Z",
     "iopub.status.busy": "2022-04-26T17:06:37.319273Z",
     "iopub.status.idle": "2022-04-26T17:35:57.276924Z",
     "shell.execute_reply": "2022-04-26T17:35:57.275921Z",
     "shell.execute_reply.started": "2022-04-26T17:06:37.320274Z"
    },
    "id": "es9k4o0ROt0l"
   },
   "outputs": [
    {
     "name": "stdout",
     "output_type": "stream",
     "text": [
      "Top-100 accuracy: 0.23.\n"
     ]
    }
   ],
   "source": [
    "model = MovielensModel([128, 64, 32])\n",
    "model.compile(optimizer=tf.keras.optimizers.Adagrad(0.1))\n",
    "\n",
    "three_layer_history = model.fit(\n",
    "    cached_train,\n",
    "    validation_data=cached_val,\n",
    "    validation_freq=5,\n",
    "    epochs=num_epochs,\n",
    "    verbose=0)\n",
    "\n",
    "accuracy = three_layer_history.history[\"val_factorized_top_k/top_100_categorical_accuracy\"][-1]\n",
    "print(f\"Top-100 accuracy: {accuracy:.2f}.\")\n"
   ]
  },
  {
   "cell_type": "markdown",
   "metadata": {
    "id": "gLJV8jut40Ur"
   },
   "source": [
    "In fact, we don't see improvement over the shallow model:"
   ]
  },
  {
   "cell_type": "code",
   "execution_count": 26,
   "metadata": {
    "execution": {
     "iopub.execute_input": "2022-04-26T17:35:57.281922Z",
     "iopub.status.busy": "2022-04-26T17:35:57.279922Z",
     "iopub.status.idle": "2022-04-26T17:35:57.674861Z",
     "shell.execute_reply": "2022-04-26T17:35:57.673860Z",
     "shell.execute_reply.started": "2022-04-26T17:35:57.281922Z"
    },
    "id": "pIoVoMO1Kav6"
   },
   "outputs": [
    {
     "data": {
      "text/plain": [
       "<matplotlib.legend.Legend at 0x223b5afe280>"
      ]
     },
     "execution_count": 26,
     "metadata": {},
     "output_type": "execute_result"
    },
    {
     "data": {
      "image/png": "[encoded data removed]",
      "text/plain": [
       "<Figure size 432x288 with 1 Axes>"
      ]
     },
     "metadata": {},
     "output_type": "display_data"
    }
   ],
   "source": [
    "plt.plot(epochs, one_layer_history.history[\"val_factorized_top_k/top_100_categorical_accuracy\"], label=\"1 layer\")\n",
    "plt.plot(epochs, two_layer_history.history[\"val_factorized_top_k/top_100_categorical_accuracy\"], label=\"2 layers\")\n",
    "plt.plot(epochs, three_layer_history.history[\"val_factorized_top_k/top_100_categorical_accuracy\"], label=\"3 layers\")\n",
    "plt.title(\"Accuracy vs epoch\")\n",
    "plt.xlabel(\"epoch\")\n",
    "plt.ylabel(\"Top-100 accuracy\");\n",
    "plt.legend()"
   ]
  },
  {
   "cell_type": "markdown",
   "metadata": {
    "id": "wC95C1anA5Gx"
   },
   "source": [
    "This is a good illustration of the fact that deeper and larger models, while capable of superior performance, often require very careful tuning. For example, throughout this tutorial we used a single, fixed learning rate. Alternative choices may give very different results and are worth exploring. \n",
    "\n",
    "With appropriate tuning and sufficient data, the effort put into building larger and deeper models is in many cases well worth it: larger models can lead to substantial improvements in prediction accuracy.\n",
    "\n"
   ]
  },
  {
   "cell_type": "markdown",
   "metadata": {
    "id": "dB09crfpgBx7"
   },
   "source": [
    "## Next Steps\n",
    "\n",
    "In this tutorial we expanded our retrieval model with dense layers and activation functions. To see how to create a model that can perform not only retrieval tasks but also rating tasks, take a look at [the multitask tutorial](https://www.tensorflow.org/recommenders/examples/multitask)."
   ]
  }
 ],
 "metadata": {
  "colab": {
   "collapsed_sections": [],
   "name": "deep_recommenders.ipynb",
   "private_outputs": true,
   "provenance": [],
   "toc_visible": true
  },
  "kernelspec": {
   "display_name": "Python 3 (ipykernel)",
   "language": "python",
   "name": "python3"
  },
  "language_info": {
   "codemirror_mode": {
    "name": "ipython",
    "version": 3
   },
   "file_extension": ".py",
   "mimetype": "text/x-python",
   "name": "python",
   "nbconvert_exporter": "python",
   "pygments_lexer": "ipython3",
   "version": "3.9.7"
  }
 },
 "nbformat": 4,
 "nbformat_minor": 4
}
