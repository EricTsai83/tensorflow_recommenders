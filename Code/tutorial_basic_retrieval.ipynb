{
 "cells": [
  {
   "cell_type": "markdown",
   "id": "31c7575c-9fa8-4138-9d77-cff83b1c6161",
   "metadata": {
    "tags": []
   },
   "source": [
    "# Basic Retrieval Model"
   ]
  },
  {
   "cell_type": "markdown",
   "id": "926f9483-2b9d-4c54-9fce-8e97e5dedebe",
   "metadata": {},
   "source": [
    "Retrieval models are often composed of two sub-models:\n",
    "* A query model computing the query representation (normally a fixed-dimensionality embedding vector) using query features.\n",
    "* A candidate model computing the candidate representation (an equally-sized vector) using the candidate features"
   ]
  },
  {
   "cell_type": "markdown",
   "id": "36c0555a-b12e-4615-8228-d6aa48cb3a51",
   "metadata": {},
   "source": [
    "The outputs of the two models are then multiplied together to give a query-candidate affinity score, with higher scores expressing a better match between the candidate and the query."
   ]
  },
  {
   "cell_type": "markdown",
   "id": "3cd78feb-caf3-4b34-b629-74d1b0b762bf",
   "metadata": {},
   "source": [
    "We're going to:\n",
    "\n",
    "* Get our data and split it into a training and test set.\n",
    "* Implement a retrieval model.\n",
    "* Fit and evaluate it.\n",
    "* Export it for efficient serving by building an approximate nearest neighbours (ANN) index."
   ]
  },
  {
   "cell_type": "markdown",
   "id": "805ada1d-4958-4679-b52f-58c5a3e4efbf",
   "metadata": {},
   "source": [
    "## The dataset\n",
    "[[Link]](https://grouplens.org/datasets/movielens/)"
   ]
  },
  {
   "cell_type": "markdown",
   "id": "bd8d8f3d-c278-4f6e-b8b2-556a0de4d42f",
   "metadata": {},
   "source": [
    "The Movielens dataset is a classic dataset from the GroupLens research group at the University of Minnesota. It contains a set of ratings given to movies by a set of users, and is a workhorse of recommender system research.\n",
    "\n",
    "The data can be treated in two ways:\n",
    "\n",
    "* It can be interpreted as expressesing which movies the users watched (and rated), and which they did not. This is a form of implicit feedback, where users' watches tell us which things they prefer to see and which they'd rather not see.\n",
    "* It can also be seen as expressesing how much the users liked the movies they did watch. This is a form of explicit feedback: given that a user watched a movie, we can tell roughly how much they liked by looking at the rating they have given.\n",
    "\n",
    "In this tutorial, we are focusing on a retrieval system: a model that predicts a set of movies from the catalogue that the user is likely to watch. Often, implicit data is more useful here, and so we are going to treat Movielens as an implicit system. This means that every movie a user watched is a positive example, and every movie they have not seen is an implicit negative example."
   ]
  },
  {
   "cell_type": "markdown",
   "id": "233b7c1d-be8c-4fe7-a087-78af45362dd0",
   "metadata": {},
   "source": [
    "## Imports"
   ]
  },
  {
   "cell_type": "code",
   "execution_count": 1,
   "id": "1697027c-ba06-4189-b8da-6a68004c712f",
   "metadata": {
    "execution": {
     "iopub.execute_input": "2022-05-08T13:44:29.257174Z",
     "iopub.status.busy": "2022-05-08T13:44:29.256179Z",
     "iopub.status.idle": "2022-05-08T13:44:35.286239Z",
     "shell.execute_reply": "2022-05-08T13:44:35.285296Z",
     "shell.execute_reply.started": "2022-05-08T13:44:29.256179Z"
    },
    "tags": []
   },
   "outputs": [],
   "source": [
    "import os\n",
    "import tempfile\n",
    "\n",
    "from typing import Dict, Text\n",
    "\n",
    "import pandas as pd\n",
    "import numpy as np\n",
    "import datetime\n",
    "from tqdm.notebook import tqdm\n",
    "\n",
    "import tensorflow as tf\n",
    "import tensorflow_recommenders as tfrs\n",
    "import tensorflow_addons as tfa\n",
    "\n",
    "\n",
    "# tensorboard needs\n",
    "from tensorboard import notebook\n",
    "import time\n",
    "import subprocess\n",
    "import platform\n",
    "import os\n",
    "import re\n",
    "# read event file created by tensorboard\n",
    "from tensorflow.python.summary.summary_iterator import summary_iterator\n",
    "import glob\n",
    "from tensorflow.python.framework import tensor_util\n",
    "\n",
    "\n",
    "# utils\n",
    "from utils import time_utils\n",
    "from utils.display_dataframe import grid_df_display\n",
    "from IPython.display import display, HTML"
   ]
  },
  {
   "cell_type": "markdown",
   "id": "577cbcd6-d3f3-42e0-87c5-21f903b754f8",
   "metadata": {},
   "source": [
    "## Preparing the dataset"
   ]
  },
  {
   "cell_type": "code",
   "execution_count": 2,
   "id": "f8b1b872-382f-49ff-903e-6cef75038383",
   "metadata": {
    "execution": {
     "iopub.execute_input": "2022-05-08T13:44:35.289240Z",
     "iopub.status.busy": "2022-05-08T13:44:35.288243Z",
     "iopub.status.idle": "2022-05-08T13:44:35.396221Z",
     "shell.execute_reply": "2022-05-08T13:44:35.394220Z",
     "shell.execute_reply.started": "2022-05-08T13:44:35.289240Z"
    },
    "tags": []
   },
   "outputs": [],
   "source": [
    "# Read the data\n",
    "user_name = ['user_id', 'age', 'gender', 'occupation', 'zip_code']\n",
    "user_df = pd.read_csv('../Data/ml-100k/u.user', sep='|', names=user_name)\n",
    "\n",
    "ratings_name = ['user_id', 'movie_id', 'user_rating', 'timestamp']\n",
    "ratings_df = pd.read_csv('../Data/ml-100k/u.data', sep='\\t', names=ratings_name)\n",
    "\n",
    "movies_name = ['movie_id', 'movie_title', 'release_data', 'video_release_date',\n",
    "               'IMDb_URL', 'unknow', 'Action', 'Adventure', 'Animation', 'Children’s',\n",
    "               'Comedy', 'Crime', 'Documentary', 'Drama', 'Fantasy', 'Film-Noir',\n",
    "               'Horror', 'Musical', 'Mystery', 'Romance', 'Sci-Fi', 'Thriller',\n",
    "               'War', 'Western']\n",
    "movies_df = pd.read_csv('../Data/ml-100k/u.item', sep='|', encoding='ISO-8859-1', header=None, names=movies_name)"
   ]
  },
  {
   "cell_type": "code",
   "execution_count": 3,
   "id": "a5202503-9dac-4a98-ab78-8f48148e12dc",
   "metadata": {
    "execution": {
     "iopub.execute_input": "2022-05-08T13:44:35.400221Z",
     "iopub.status.busy": "2022-05-08T13:44:35.398224Z",
     "iopub.status.idle": "2022-05-08T13:44:36.863083Z",
     "shell.execute_reply": "2022-05-08T13:44:36.862102Z",
     "shell.execute_reply.started": "2022-05-08T13:44:35.400221Z"
    },
    "tags": []
   },
   "outputs": [
    {
     "data": {
      "text/html": [
       "<table style='width:100%; border:0px'><tr style='border:0px'><td style='width:50.0%;vertical-align:top;border:0px'><style type=\"text/css\">\n",
       "</style>\n",
       "<table id=\"T_f2d82\" style='display:inline'>\n",
       "  <caption><b><H2>user_df<H2></b></caption>\n",
       "  <thead>\n",
       "    <tr>\n",
       "      <th class=\"blank level0\" >&nbsp;</th>\n",
       "      <th id=\"T_f2d82_level0_col0\" class=\"col_heading level0 col0\" >user_id</th>\n",
       "      <th id=\"T_f2d82_level0_col1\" class=\"col_heading level0 col1\" >age</th>\n",
       "      <th id=\"T_f2d82_level0_col2\" class=\"col_heading level0 col2\" >gender</th>\n",
       "      <th id=\"T_f2d82_level0_col3\" class=\"col_heading level0 col3\" >occupation</th>\n",
       "      <th id=\"T_f2d82_level0_col4\" class=\"col_heading level0 col4\" >zip_code</th>\n",
       "    </tr>\n",
       "  </thead>\n",
       "  <tbody>\n",
       "    <tr>\n",
       "      <th id=\"T_f2d82_level0_row0\" class=\"row_heading level0 row0\" >0</th>\n",
       "      <td id=\"T_f2d82_row0_col0\" class=\"data row0 col0\" >1</td>\n",
       "      <td id=\"T_f2d82_row0_col1\" class=\"data row0 col1\" >24</td>\n",
       "      <td id=\"T_f2d82_row0_col2\" class=\"data row0 col2\" >M</td>\n",
       "      <td id=\"T_f2d82_row0_col3\" class=\"data row0 col3\" >technician</td>\n",
       "      <td id=\"T_f2d82_row0_col4\" class=\"data row0 col4\" >85711</td>\n",
       "    </tr>\n",
       "    <tr>\n",
       "      <th id=\"T_f2d82_level0_row1\" class=\"row_heading level0 row1\" >1</th>\n",
       "      <td id=\"T_f2d82_row1_col0\" class=\"data row1 col0\" >2</td>\n",
       "      <td id=\"T_f2d82_row1_col1\" class=\"data row1 col1\" >53</td>\n",
       "      <td id=\"T_f2d82_row1_col2\" class=\"data row1 col2\" >F</td>\n",
       "      <td id=\"T_f2d82_row1_col3\" class=\"data row1 col3\" >other</td>\n",
       "      <td id=\"T_f2d82_row1_col4\" class=\"data row1 col4\" >94043</td>\n",
       "    </tr>\n",
       "    <tr>\n",
       "      <th id=\"T_f2d82_level0_row2\" class=\"row_heading level0 row2\" >2</th>\n",
       "      <td id=\"T_f2d82_row2_col0\" class=\"data row2 col0\" >3</td>\n",
       "      <td id=\"T_f2d82_row2_col1\" class=\"data row2 col1\" >23</td>\n",
       "      <td id=\"T_f2d82_row2_col2\" class=\"data row2 col2\" >M</td>\n",
       "      <td id=\"T_f2d82_row2_col3\" class=\"data row2 col3\" >writer</td>\n",
       "      <td id=\"T_f2d82_row2_col4\" class=\"data row2 col4\" >32067</td>\n",
       "    </tr>\n",
       "    <tr>\n",
       "      <th id=\"T_f2d82_level0_row3\" class=\"row_heading level0 row3\" >3</th>\n",
       "      <td id=\"T_f2d82_row3_col0\" class=\"data row3 col0\" >4</td>\n",
       "      <td id=\"T_f2d82_row3_col1\" class=\"data row3 col1\" >24</td>\n",
       "      <td id=\"T_f2d82_row3_col2\" class=\"data row3 col2\" >M</td>\n",
       "      <td id=\"T_f2d82_row3_col3\" class=\"data row3 col3\" >technician</td>\n",
       "      <td id=\"T_f2d82_row3_col4\" class=\"data row3 col4\" >43537</td>\n",
       "    </tr>\n",
       "    <tr>\n",
       "      <th id=\"T_f2d82_level0_row4\" class=\"row_heading level0 row4\" >4</th>\n",
       "      <td id=\"T_f2d82_row4_col0\" class=\"data row4 col0\" >5</td>\n",
       "      <td id=\"T_f2d82_row4_col1\" class=\"data row4 col1\" >33</td>\n",
       "      <td id=\"T_f2d82_row4_col2\" class=\"data row4 col2\" >F</td>\n",
       "      <td id=\"T_f2d82_row4_col3\" class=\"data row4 col3\" >other</td>\n",
       "      <td id=\"T_f2d82_row4_col4\" class=\"data row4 col4\" >15213</td>\n",
       "    </tr>\n",
       "  </tbody>\n",
       "</table>\n",
       "</td><td style='width:50.0%;vertical-align:top;border:0px'><style type=\"text/css\">\n",
       "</style>\n",
       "<table id=\"T_913ec\" style='display:inline'>\n",
       "  <caption><b><H2>ratings_df<H2></b></caption>\n",
       "  <thead>\n",
       "    <tr>\n",
       "      <th class=\"blank level0\" >&nbsp;</th>\n",
       "      <th id=\"T_913ec_level0_col0\" class=\"col_heading level0 col0\" >user_id</th>\n",
       "      <th id=\"T_913ec_level0_col1\" class=\"col_heading level0 col1\" >movie_id</th>\n",
       "      <th id=\"T_913ec_level0_col2\" class=\"col_heading level0 col2\" >user_rating</th>\n",
       "      <th id=\"T_913ec_level0_col3\" class=\"col_heading level0 col3\" >timestamp</th>\n",
       "    </tr>\n",
       "  </thead>\n",
       "  <tbody>\n",
       "    <tr>\n",
       "      <th id=\"T_913ec_level0_row0\" class=\"row_heading level0 row0\" >0</th>\n",
       "      <td id=\"T_913ec_row0_col0\" class=\"data row0 col0\" >196</td>\n",
       "      <td id=\"T_913ec_row0_col1\" class=\"data row0 col1\" >242</td>\n",
       "      <td id=\"T_913ec_row0_col2\" class=\"data row0 col2\" >3</td>\n",
       "      <td id=\"T_913ec_row0_col3\" class=\"data row0 col3\" >881250949</td>\n",
       "    </tr>\n",
       "    <tr>\n",
       "      <th id=\"T_913ec_level0_row1\" class=\"row_heading level0 row1\" >1</th>\n",
       "      <td id=\"T_913ec_row1_col0\" class=\"data row1 col0\" >186</td>\n",
       "      <td id=\"T_913ec_row1_col1\" class=\"data row1 col1\" >302</td>\n",
       "      <td id=\"T_913ec_row1_col2\" class=\"data row1 col2\" >3</td>\n",
       "      <td id=\"T_913ec_row1_col3\" class=\"data row1 col3\" >891717742</td>\n",
       "    </tr>\n",
       "    <tr>\n",
       "      <th id=\"T_913ec_level0_row2\" class=\"row_heading level0 row2\" >2</th>\n",
       "      <td id=\"T_913ec_row2_col0\" class=\"data row2 col0\" >22</td>\n",
       "      <td id=\"T_913ec_row2_col1\" class=\"data row2 col1\" >377</td>\n",
       "      <td id=\"T_913ec_row2_col2\" class=\"data row2 col2\" >1</td>\n",
       "      <td id=\"T_913ec_row2_col3\" class=\"data row2 col3\" >878887116</td>\n",
       "    </tr>\n",
       "    <tr>\n",
       "      <th id=\"T_913ec_level0_row3\" class=\"row_heading level0 row3\" >3</th>\n",
       "      <td id=\"T_913ec_row3_col0\" class=\"data row3 col0\" >244</td>\n",
       "      <td id=\"T_913ec_row3_col1\" class=\"data row3 col1\" >51</td>\n",
       "      <td id=\"T_913ec_row3_col2\" class=\"data row3 col2\" >2</td>\n",
       "      <td id=\"T_913ec_row3_col3\" class=\"data row3 col3\" >880606923</td>\n",
       "    </tr>\n",
       "    <tr>\n",
       "      <th id=\"T_913ec_level0_row4\" class=\"row_heading level0 row4\" >4</th>\n",
       "      <td id=\"T_913ec_row4_col0\" class=\"data row4 col0\" >166</td>\n",
       "      <td id=\"T_913ec_row4_col1\" class=\"data row4 col1\" >346</td>\n",
       "      <td id=\"T_913ec_row4_col2\" class=\"data row4 col2\" >1</td>\n",
       "      <td id=\"T_913ec_row4_col3\" class=\"data row4 col3\" >886397596</td>\n",
       "    </tr>\n",
       "  </tbody>\n",
       "</table>\n",
       "</td></tr><tr style='border:0px'><td style='width:50.0%;vertical-align:top;border:0px'><style type=\"text/css\">\n",
       "</style>\n",
       "<table id=\"T_426f8\" style='display:inline'>\n",
       "  <caption><b><H2>movies_df<H2></b></caption>\n",
       "  <thead>\n",
       "    <tr>\n",
       "      <th class=\"blank level0\" >&nbsp;</th>\n",
       "      <th id=\"T_426f8_level0_col0\" class=\"col_heading level0 col0\" >movie_id</th>\n",
       "      <th id=\"T_426f8_level0_col1\" class=\"col_heading level0 col1\" >movie_title</th>\n",
       "      <th id=\"T_426f8_level0_col2\" class=\"col_heading level0 col2\" >release_data</th>\n",
       "      <th id=\"T_426f8_level0_col3\" class=\"col_heading level0 col3\" >video_release_date</th>\n",
       "      <th id=\"T_426f8_level0_col4\" class=\"col_heading level0 col4\" >IMDb_URL</th>\n",
       "      <th id=\"T_426f8_level0_col5\" class=\"col_heading level0 col5\" >unknow</th>\n",
       "      <th id=\"T_426f8_level0_col6\" class=\"col_heading level0 col6\" >Action</th>\n",
       "      <th id=\"T_426f8_level0_col7\" class=\"col_heading level0 col7\" >Adventure</th>\n",
       "      <th id=\"T_426f8_level0_col8\" class=\"col_heading level0 col8\" >Animation</th>\n",
       "      <th id=\"T_426f8_level0_col9\" class=\"col_heading level0 col9\" >Children’s</th>\n",
       "      <th id=\"T_426f8_level0_col10\" class=\"col_heading level0 col10\" >Comedy</th>\n",
       "      <th id=\"T_426f8_level0_col11\" class=\"col_heading level0 col11\" >Crime</th>\n",
       "      <th id=\"T_426f8_level0_col12\" class=\"col_heading level0 col12\" >Documentary</th>\n",
       "      <th id=\"T_426f8_level0_col13\" class=\"col_heading level0 col13\" >Drama</th>\n",
       "      <th id=\"T_426f8_level0_col14\" class=\"col_heading level0 col14\" >Fantasy</th>\n",
       "      <th id=\"T_426f8_level0_col15\" class=\"col_heading level0 col15\" >Film-Noir</th>\n",
       "      <th id=\"T_426f8_level0_col16\" class=\"col_heading level0 col16\" >Horror</th>\n",
       "      <th id=\"T_426f8_level0_col17\" class=\"col_heading level0 col17\" >Musical</th>\n",
       "      <th id=\"T_426f8_level0_col18\" class=\"col_heading level0 col18\" >Mystery</th>\n",
       "      <th id=\"T_426f8_level0_col19\" class=\"col_heading level0 col19\" >Romance</th>\n",
       "      <th id=\"T_426f8_level0_col20\" class=\"col_heading level0 col20\" >Sci-Fi</th>\n",
       "      <th id=\"T_426f8_level0_col21\" class=\"col_heading level0 col21\" >Thriller</th>\n",
       "      <th id=\"T_426f8_level0_col22\" class=\"col_heading level0 col22\" >War</th>\n",
       "      <th id=\"T_426f8_level0_col23\" class=\"col_heading level0 col23\" >Western</th>\n",
       "    </tr>\n",
       "  </thead>\n",
       "  <tbody>\n",
       "    <tr>\n",
       "      <th id=\"T_426f8_level0_row0\" class=\"row_heading level0 row0\" >0</th>\n",
       "      <td id=\"T_426f8_row0_col0\" class=\"data row0 col0\" >1</td>\n",
       "      <td id=\"T_426f8_row0_col1\" class=\"data row0 col1\" >Toy Story (1995)</td>\n",
       "      <td id=\"T_426f8_row0_col2\" class=\"data row0 col2\" >01-Jan-1995</td>\n",
       "      <td id=\"T_426f8_row0_col3\" class=\"data row0 col3\" >nan</td>\n",
       "      <td id=\"T_426f8_row0_col4\" class=\"data row0 col4\" >http://us.imdb.com/M/title-exact?Toy%20Story%20(1995)</td>\n",
       "      <td id=\"T_426f8_row0_col5\" class=\"data row0 col5\" >0</td>\n",
       "      <td id=\"T_426f8_row0_col6\" class=\"data row0 col6\" >0</td>\n",
       "      <td id=\"T_426f8_row0_col7\" class=\"data row0 col7\" >0</td>\n",
       "      <td id=\"T_426f8_row0_col8\" class=\"data row0 col8\" >1</td>\n",
       "      <td id=\"T_426f8_row0_col9\" class=\"data row0 col9\" >1</td>\n",
       "      <td id=\"T_426f8_row0_col10\" class=\"data row0 col10\" >1</td>\n",
       "      <td id=\"T_426f8_row0_col11\" class=\"data row0 col11\" >0</td>\n",
       "      <td id=\"T_426f8_row0_col12\" class=\"data row0 col12\" >0</td>\n",
       "      <td id=\"T_426f8_row0_col13\" class=\"data row0 col13\" >0</td>\n",
       "      <td id=\"T_426f8_row0_col14\" class=\"data row0 col14\" >0</td>\n",
       "      <td id=\"T_426f8_row0_col15\" class=\"data row0 col15\" >0</td>\n",
       "      <td id=\"T_426f8_row0_col16\" class=\"data row0 col16\" >0</td>\n",
       "      <td id=\"T_426f8_row0_col17\" class=\"data row0 col17\" >0</td>\n",
       "      <td id=\"T_426f8_row0_col18\" class=\"data row0 col18\" >0</td>\n",
       "      <td id=\"T_426f8_row0_col19\" class=\"data row0 col19\" >0</td>\n",
       "      <td id=\"T_426f8_row0_col20\" class=\"data row0 col20\" >0</td>\n",
       "      <td id=\"T_426f8_row0_col21\" class=\"data row0 col21\" >0</td>\n",
       "      <td id=\"T_426f8_row0_col22\" class=\"data row0 col22\" >0</td>\n",
       "      <td id=\"T_426f8_row0_col23\" class=\"data row0 col23\" >0</td>\n",
       "    </tr>\n",
       "    <tr>\n",
       "      <th id=\"T_426f8_level0_row1\" class=\"row_heading level0 row1\" >1</th>\n",
       "      <td id=\"T_426f8_row1_col0\" class=\"data row1 col0\" >2</td>\n",
       "      <td id=\"T_426f8_row1_col1\" class=\"data row1 col1\" >GoldenEye (1995)</td>\n",
       "      <td id=\"T_426f8_row1_col2\" class=\"data row1 col2\" >01-Jan-1995</td>\n",
       "      <td id=\"T_426f8_row1_col3\" class=\"data row1 col3\" >nan</td>\n",
       "      <td id=\"T_426f8_row1_col4\" class=\"data row1 col4\" >http://us.imdb.com/M/title-exact?GoldenEye%20(1995)</td>\n",
       "      <td id=\"T_426f8_row1_col5\" class=\"data row1 col5\" >0</td>\n",
       "      <td id=\"T_426f8_row1_col6\" class=\"data row1 col6\" >1</td>\n",
       "      <td id=\"T_426f8_row1_col7\" class=\"data row1 col7\" >1</td>\n",
       "      <td id=\"T_426f8_row1_col8\" class=\"data row1 col8\" >0</td>\n",
       "      <td id=\"T_426f8_row1_col9\" class=\"data row1 col9\" >0</td>\n",
       "      <td id=\"T_426f8_row1_col10\" class=\"data row1 col10\" >0</td>\n",
       "      <td id=\"T_426f8_row1_col11\" class=\"data row1 col11\" >0</td>\n",
       "      <td id=\"T_426f8_row1_col12\" class=\"data row1 col12\" >0</td>\n",
       "      <td id=\"T_426f8_row1_col13\" class=\"data row1 col13\" >0</td>\n",
       "      <td id=\"T_426f8_row1_col14\" class=\"data row1 col14\" >0</td>\n",
       "      <td id=\"T_426f8_row1_col15\" class=\"data row1 col15\" >0</td>\n",
       "      <td id=\"T_426f8_row1_col16\" class=\"data row1 col16\" >0</td>\n",
       "      <td id=\"T_426f8_row1_col17\" class=\"data row1 col17\" >0</td>\n",
       "      <td id=\"T_426f8_row1_col18\" class=\"data row1 col18\" >0</td>\n",
       "      <td id=\"T_426f8_row1_col19\" class=\"data row1 col19\" >0</td>\n",
       "      <td id=\"T_426f8_row1_col20\" class=\"data row1 col20\" >0</td>\n",
       "      <td id=\"T_426f8_row1_col21\" class=\"data row1 col21\" >1</td>\n",
       "      <td id=\"T_426f8_row1_col22\" class=\"data row1 col22\" >0</td>\n",
       "      <td id=\"T_426f8_row1_col23\" class=\"data row1 col23\" >0</td>\n",
       "    </tr>\n",
       "    <tr>\n",
       "      <th id=\"T_426f8_level0_row2\" class=\"row_heading level0 row2\" >2</th>\n",
       "      <td id=\"T_426f8_row2_col0\" class=\"data row2 col0\" >3</td>\n",
       "      <td id=\"T_426f8_row2_col1\" class=\"data row2 col1\" >Four Rooms (1995)</td>\n",
       "      <td id=\"T_426f8_row2_col2\" class=\"data row2 col2\" >01-Jan-1995</td>\n",
       "      <td id=\"T_426f8_row2_col3\" class=\"data row2 col3\" >nan</td>\n",
       "      <td id=\"T_426f8_row2_col4\" class=\"data row2 col4\" >http://us.imdb.com/M/title-exact?Four%20Rooms%20(1995)</td>\n",
       "      <td id=\"T_426f8_row2_col5\" class=\"data row2 col5\" >0</td>\n",
       "      <td id=\"T_426f8_row2_col6\" class=\"data row2 col6\" >0</td>\n",
       "      <td id=\"T_426f8_row2_col7\" class=\"data row2 col7\" >0</td>\n",
       "      <td id=\"T_426f8_row2_col8\" class=\"data row2 col8\" >0</td>\n",
       "      <td id=\"T_426f8_row2_col9\" class=\"data row2 col9\" >0</td>\n",
       "      <td id=\"T_426f8_row2_col10\" class=\"data row2 col10\" >0</td>\n",
       "      <td id=\"T_426f8_row2_col11\" class=\"data row2 col11\" >0</td>\n",
       "      <td id=\"T_426f8_row2_col12\" class=\"data row2 col12\" >0</td>\n",
       "      <td id=\"T_426f8_row2_col13\" class=\"data row2 col13\" >0</td>\n",
       "      <td id=\"T_426f8_row2_col14\" class=\"data row2 col14\" >0</td>\n",
       "      <td id=\"T_426f8_row2_col15\" class=\"data row2 col15\" >0</td>\n",
       "      <td id=\"T_426f8_row2_col16\" class=\"data row2 col16\" >0</td>\n",
       "      <td id=\"T_426f8_row2_col17\" class=\"data row2 col17\" >0</td>\n",
       "      <td id=\"T_426f8_row2_col18\" class=\"data row2 col18\" >0</td>\n",
       "      <td id=\"T_426f8_row2_col19\" class=\"data row2 col19\" >0</td>\n",
       "      <td id=\"T_426f8_row2_col20\" class=\"data row2 col20\" >0</td>\n",
       "      <td id=\"T_426f8_row2_col21\" class=\"data row2 col21\" >1</td>\n",
       "      <td id=\"T_426f8_row2_col22\" class=\"data row2 col22\" >0</td>\n",
       "      <td id=\"T_426f8_row2_col23\" class=\"data row2 col23\" >0</td>\n",
       "    </tr>\n",
       "    <tr>\n",
       "      <th id=\"T_426f8_level0_row3\" class=\"row_heading level0 row3\" >3</th>\n",
       "      <td id=\"T_426f8_row3_col0\" class=\"data row3 col0\" >4</td>\n",
       "      <td id=\"T_426f8_row3_col1\" class=\"data row3 col1\" >Get Shorty (1995)</td>\n",
       "      <td id=\"T_426f8_row3_col2\" class=\"data row3 col2\" >01-Jan-1995</td>\n",
       "      <td id=\"T_426f8_row3_col3\" class=\"data row3 col3\" >nan</td>\n",
       "      <td id=\"T_426f8_row3_col4\" class=\"data row3 col4\" >http://us.imdb.com/M/title-exact?Get%20Shorty%20(1995)</td>\n",
       "      <td id=\"T_426f8_row3_col5\" class=\"data row3 col5\" >0</td>\n",
       "      <td id=\"T_426f8_row3_col6\" class=\"data row3 col6\" >1</td>\n",
       "      <td id=\"T_426f8_row3_col7\" class=\"data row3 col7\" >0</td>\n",
       "      <td id=\"T_426f8_row3_col8\" class=\"data row3 col8\" >0</td>\n",
       "      <td id=\"T_426f8_row3_col9\" class=\"data row3 col9\" >0</td>\n",
       "      <td id=\"T_426f8_row3_col10\" class=\"data row3 col10\" >1</td>\n",
       "      <td id=\"T_426f8_row3_col11\" class=\"data row3 col11\" >0</td>\n",
       "      <td id=\"T_426f8_row3_col12\" class=\"data row3 col12\" >0</td>\n",
       "      <td id=\"T_426f8_row3_col13\" class=\"data row3 col13\" >1</td>\n",
       "      <td id=\"T_426f8_row3_col14\" class=\"data row3 col14\" >0</td>\n",
       "      <td id=\"T_426f8_row3_col15\" class=\"data row3 col15\" >0</td>\n",
       "      <td id=\"T_426f8_row3_col16\" class=\"data row3 col16\" >0</td>\n",
       "      <td id=\"T_426f8_row3_col17\" class=\"data row3 col17\" >0</td>\n",
       "      <td id=\"T_426f8_row3_col18\" class=\"data row3 col18\" >0</td>\n",
       "      <td id=\"T_426f8_row3_col19\" class=\"data row3 col19\" >0</td>\n",
       "      <td id=\"T_426f8_row3_col20\" class=\"data row3 col20\" >0</td>\n",
       "      <td id=\"T_426f8_row3_col21\" class=\"data row3 col21\" >0</td>\n",
       "      <td id=\"T_426f8_row3_col22\" class=\"data row3 col22\" >0</td>\n",
       "      <td id=\"T_426f8_row3_col23\" class=\"data row3 col23\" >0</td>\n",
       "    </tr>\n",
       "    <tr>\n",
       "      <th id=\"T_426f8_level0_row4\" class=\"row_heading level0 row4\" >4</th>\n",
       "      <td id=\"T_426f8_row4_col0\" class=\"data row4 col0\" >5</td>\n",
       "      <td id=\"T_426f8_row4_col1\" class=\"data row4 col1\" >Copycat (1995)</td>\n",
       "      <td id=\"T_426f8_row4_col2\" class=\"data row4 col2\" >01-Jan-1995</td>\n",
       "      <td id=\"T_426f8_row4_col3\" class=\"data row4 col3\" >nan</td>\n",
       "      <td id=\"T_426f8_row4_col4\" class=\"data row4 col4\" >http://us.imdb.com/M/title-exact?Copycat%20(1995)</td>\n",
       "      <td id=\"T_426f8_row4_col5\" class=\"data row4 col5\" >0</td>\n",
       "      <td id=\"T_426f8_row4_col6\" class=\"data row4 col6\" >0</td>\n",
       "      <td id=\"T_426f8_row4_col7\" class=\"data row4 col7\" >0</td>\n",
       "      <td id=\"T_426f8_row4_col8\" class=\"data row4 col8\" >0</td>\n",
       "      <td id=\"T_426f8_row4_col9\" class=\"data row4 col9\" >0</td>\n",
       "      <td id=\"T_426f8_row4_col10\" class=\"data row4 col10\" >0</td>\n",
       "      <td id=\"T_426f8_row4_col11\" class=\"data row4 col11\" >1</td>\n",
       "      <td id=\"T_426f8_row4_col12\" class=\"data row4 col12\" >0</td>\n",
       "      <td id=\"T_426f8_row4_col13\" class=\"data row4 col13\" >1</td>\n",
       "      <td id=\"T_426f8_row4_col14\" class=\"data row4 col14\" >0</td>\n",
       "      <td id=\"T_426f8_row4_col15\" class=\"data row4 col15\" >0</td>\n",
       "      <td id=\"T_426f8_row4_col16\" class=\"data row4 col16\" >0</td>\n",
       "      <td id=\"T_426f8_row4_col17\" class=\"data row4 col17\" >0</td>\n",
       "      <td id=\"T_426f8_row4_col18\" class=\"data row4 col18\" >0</td>\n",
       "      <td id=\"T_426f8_row4_col19\" class=\"data row4 col19\" >0</td>\n",
       "      <td id=\"T_426f8_row4_col20\" class=\"data row4 col20\" >0</td>\n",
       "      <td id=\"T_426f8_row4_col21\" class=\"data row4 col21\" >1</td>\n",
       "      <td id=\"T_426f8_row4_col22\" class=\"data row4 col22\" >0</td>\n",
       "      <td id=\"T_426f8_row4_col23\" class=\"data row4 col23\" >0</td>\n",
       "    </tr>\n",
       "  </tbody>\n",
       "</table>\n",
       "</td><td style='width:50.0%;vertical-align:top;border:0px'></td></tr></table>"
      ],
      "text/plain": [
       "<IPython.core.display.HTML object>"
      ]
     },
     "metadata": {},
     "output_type": "display_data"
    }
   ],
   "source": [
    "grid_df_display(\n",
    "    list_df = [user_df, ratings_df, movies_df],\n",
    "    list_df_name = ['user_df', 'ratings_df', 'movies_df'],\n",
    "    list_number_of_data = [5, 5, 5],\n",
    "    row=2, col=2, fill='row'\n",
    ")"
   ]
  },
  {
   "cell_type": "code",
   "execution_count": 4,
   "id": "aaf9f7fb-a790-4a00-bb33-333b23aed33d",
   "metadata": {
    "execution": {
     "iopub.execute_input": "2022-05-08T13:44:36.866085Z",
     "iopub.status.busy": "2022-05-08T13:44:36.865088Z",
     "iopub.status.idle": "2022-05-08T13:44:36.927074Z",
     "shell.execute_reply": "2022-05-08T13:44:36.926099Z",
     "shell.execute_reply.started": "2022-05-08T13:44:36.866085Z"
    },
    "tags": []
   },
   "outputs": [],
   "source": [
    "ratings_df = pd.merge(ratings_df, movies_df, on='movie_id', how='left')"
   ]
  },
  {
   "cell_type": "code",
   "execution_count": 5,
   "id": "e9c7b149-b4da-4e8c-a926-829690240725",
   "metadata": {
    "execution": {
     "iopub.execute_input": "2022-05-08T13:44:36.937074Z",
     "iopub.status.busy": "2022-05-08T13:44:36.937074Z",
     "iopub.status.idle": "2022-05-08T13:44:37.038177Z",
     "shell.execute_reply": "2022-05-08T13:44:37.037232Z",
     "shell.execute_reply.started": "2022-05-08T13:44:36.937074Z"
    },
    "tags": []
   },
   "outputs": [],
   "source": [
    "# you must to drop columns you don't need. Otherwise, the next cell will get error\n",
    "ratings_df = ratings_df[['movie_title', 'user_id']]\n",
    "ratings_df = ratings_df.astype({'user_id': str})\n",
    "movies_df = movies_df[['movie_title']]"
   ]
  },
  {
   "cell_type": "code",
   "execution_count": 6,
   "id": "0a47fcfd-473f-4f56-858c-10ea1febff47",
   "metadata": {
    "execution": {
     "iopub.execute_input": "2022-05-08T13:44:37.040180Z",
     "iopub.status.busy": "2022-05-08T13:44:37.039179Z",
     "iopub.status.idle": "2022-05-08T13:44:38.265062Z",
     "shell.execute_reply": "2022-05-08T13:44:38.264063Z",
     "shell.execute_reply.started": "2022-05-08T13:44:37.040180Z"
    }
   },
   "outputs": [],
   "source": [
    "# Select the basic features.\n",
    "ratings = tf.data.Dataset.from_tensor_slices(dict(ratings_df)).map(lambda x: {\n",
    "    'movie_title': x['movie_title'],\n",
    "    'user_id': x['user_id']\n",
    "})"
   ]
  },
  {
   "cell_type": "code",
   "execution_count": 7,
   "id": "20526c81-ac38-4082-95c0-84252d4c8a53",
   "metadata": {
    "execution": {
     "iopub.execute_input": "2022-05-08T13:44:38.269062Z",
     "iopub.status.busy": "2022-05-08T13:44:38.269062Z",
     "iopub.status.idle": "2022-05-08T13:44:38.349049Z",
     "shell.execute_reply": "2022-05-08T13:44:38.344049Z",
     "shell.execute_reply.started": "2022-05-08T13:44:38.269062Z"
    }
   },
   "outputs": [],
   "source": [
    "movies = tf.data.Dataset.from_tensor_slices(dict(movies_df)).map(lambda x: x['movie_title'])"
   ]
  },
  {
   "cell_type": "markdown",
   "id": "a02a2b7e-98b0-4537-869f-284eeff41ef6",
   "metadata": {},
   "source": [
    "To fit and evaluate the model, we need to split it into a training and evaluation set. In an industrial recommender system, this would most likely be done by time: the data up to time $T$ would be used to predict interactions after $T$."
   ]
  },
  {
   "cell_type": "code",
   "execution_count": 8,
   "id": "a858ff5b-820a-442d-afd4-afb46ed84381",
   "metadata": {
    "execution": {
     "iopub.execute_input": "2022-05-08T13:44:38.353049Z",
     "iopub.status.busy": "2022-05-08T13:44:38.353049Z",
     "iopub.status.idle": "2022-05-08T13:44:38.375044Z",
     "shell.execute_reply": "2022-05-08T13:44:38.374047Z",
     "shell.execute_reply.started": "2022-05-08T13:44:38.353049Z"
    }
   },
   "outputs": [],
   "source": [
    "tf.random.set_seed(42)\n",
    "shuffled = ratings.shuffle(100_000, seed=42, reshuffle_each_iteration=False)\n",
    "\n",
    "train = shuffled.take(80_000)\n",
    "test = shuffled.skip(80_000).take(20_000)"
   ]
  },
  {
   "cell_type": "markdown",
   "id": "34171fa3-1893-445d-bc9f-6cb7a3fbf848",
   "metadata": {},
   "source": [
    "Let's also figure out unique user ids and movie titles present in the data.\n",
    "\n",
    "This is important because we need to be able to map the raw values of our categorical features to embedding vectors in our models. To do that, we need a vocabulary that maps a raw feature value to an integer in a contiguous range: this allows us to look up the corresponding embeddings in our embedding tables."
   ]
  },
  {
   "cell_type": "code",
   "execution_count": 9,
   "id": "24ef5348-373b-49f7-a3fc-191707512903",
   "metadata": {
    "execution": {
     "iopub.execute_input": "2022-05-08T13:44:38.382043Z",
     "iopub.status.busy": "2022-05-08T13:44:38.378045Z",
     "iopub.status.idle": "2022-05-08T13:44:39.122632Z",
     "shell.execute_reply": "2022-05-08T13:44:39.121633Z",
     "shell.execute_reply.started": "2022-05-08T13:44:38.382043Z"
    }
   },
   "outputs": [
    {
     "data": {
      "text/plain": [
       "array([b\"'Til There Was You (1997)\", b'1-900 (1994)',\n",
       "       b'101 Dalmatians (1996)', b'12 Angry Men (1957)', b'187 (1997)',\n",
       "       b'2 Days in the Valley (1996)',\n",
       "       b'20,000 Leagues Under the Sea (1954)',\n",
       "       b'2001: A Space Odyssey (1968)',\n",
       "       b'3 Ninjas: High Noon At Mega Mountain (1998)',\n",
       "       b'39 Steps, The (1935)'], dtype=object)"
      ]
     },
     "execution_count": 9,
     "metadata": {},
     "output_type": "execute_result"
    }
   ],
   "source": [
    "movie_titles = movies.batch(1_000)\n",
    "user_ids = ratings.batch(1_000_000).map(lambda x: x['user_id'])\n",
    "\n",
    "unique_movie_titles = np.unique(np.concatenate(list(movie_titles)))\n",
    "unique_user_ids = np.unique(np.concatenate(list(user_ids)))\n",
    "\n",
    "unique_movie_titles[:10]"
   ]
  },
  {
   "cell_type": "markdown",
   "id": "1bd98142-1d70-4d26-80f2-a9ff2282f0cf",
   "metadata": {},
   "source": [
    "## Implementing a model\n",
    "Choosing the architecture of our model is a key part of modelling.\n",
    "\n",
    "Because we are building a two-tower retrieval model, we can build each tower separately and then combine them in the final model."
   ]
  },
  {
   "cell_type": "markdown",
   "id": "b0d6c320-614e-4b09-809c-04e755629154",
   "metadata": {},
   "source": [
    "### The query tower\n",
    "The first step is to decide on the dimensionality of the query and candidate representations:"
   ]
  },
  {
   "cell_type": "code",
   "execution_count": 10,
   "id": "6159e17a-cb5b-4dd3-9104-e1675bc502db",
   "metadata": {
    "execution": {
     "iopub.execute_input": "2022-05-08T13:44:39.126633Z",
     "iopub.status.busy": "2022-05-08T13:44:39.125632Z",
     "iopub.status.idle": "2022-05-08T13:44:39.138630Z",
     "shell.execute_reply": "2022-05-08T13:44:39.137629Z",
     "shell.execute_reply.started": "2022-05-08T13:44:39.126633Z"
    }
   },
   "outputs": [],
   "source": [
    "\"\"\"\n",
    "Higher values will correspond to models that may be more accurate\n",
    "but will also be slower to fit and more prone to overfitting.\n",
    "\"\"\"\n",
    "embedding_dimension = 32"
   ]
  },
  {
   "cell_type": "markdown",
   "id": "9802551d-0312-4428-acf7-74d9e0a5fcf2",
   "metadata": {},
   "source": [
    "The second is to define the model itself. Here, we're going to use Keras preprocessing layers to first convert user ids to integers, and then convert those to user embeddings via an `Embedding` layer. Note that we use the list of unique user ids we computed earlier as a vocabulary:"
   ]
  },
  {
   "cell_type": "code",
   "execution_count": 11,
   "id": "4a3d8da2-b2b3-4b5f-820e-87aec22d99a3",
   "metadata": {
    "execution": {
     "iopub.execute_input": "2022-05-08T13:44:39.141629Z",
     "iopub.status.busy": "2022-05-08T13:44:39.140628Z",
     "iopub.status.idle": "2022-05-08T13:44:39.186622Z",
     "shell.execute_reply": "2022-05-08T13:44:39.185621Z",
     "shell.execute_reply.started": "2022-05-08T13:44:39.141629Z"
    }
   },
   "outputs": [],
   "source": [
    "user_model = tf.keras.Sequential([\n",
    "    tf.keras.layers.StringLookup(\n",
    "        vocabulary=unique_user_ids, mask_token=None),\n",
    "        # We add an additional embedding to account for unknown tokens.\n",
    "        tf.keras.layers.Embedding(len(unique_user_ids) + 1, embedding_dimension)\n",
    "])"
   ]
  },
  {
   "cell_type": "markdown",
   "id": "b6be0aab-e160-4393-8367-b8231bd488df",
   "metadata": {},
   "source": [
    "A simple model like this corresponds exactly to a classic [matrix factorization](https://ieeexplore.ieee.org/abstract/document/4781121) approach. While defining a subclass of tf.keras.Model for this simple model might be overkill, we can easily extend it to an arbitrarily complex model using standard Keras components, as long as we return an embedding_dimension-wide output at the end."
   ]
  },
  {
   "cell_type": "markdown",
   "id": "c1041e0f-f4ff-4a04-b90c-20a197e052b3",
   "metadata": {},
   "source": [
    "### The candidate tower"
   ]
  },
  {
   "cell_type": "code",
   "execution_count": 12,
   "id": "7da53113-f2f4-46ae-bb4e-4a20ea3263d7",
   "metadata": {
    "execution": {
     "iopub.execute_input": "2022-05-08T13:44:39.189620Z",
     "iopub.status.busy": "2022-05-08T13:44:39.188621Z",
     "iopub.status.idle": "2022-05-08T13:44:39.218617Z",
     "shell.execute_reply": "2022-05-08T13:44:39.217616Z",
     "shell.execute_reply.started": "2022-05-08T13:44:39.189620Z"
    },
    "tags": []
   },
   "outputs": [],
   "source": [
    "item_model = tf.keras.Sequential([\n",
    "    tf.keras.layers.StringLookup(\n",
    "        vocabulary=unique_movie_titles, mask_token=None),\n",
    "    tf.keras.layers.Embedding(len(unique_movie_titles) + 1, embedding_dimension)\n",
    "])"
   ]
  },
  {
   "cell_type": "markdown",
   "id": "606a70b9-ce86-4e90-8175-9bf6f8b7f1b9",
   "metadata": {},
   "source": [
    "### Metrics\n",
    "In our training data we have positive (user, movie) pairs. To figure out how good our model is, we need to compare the affinity score that the model calculates for this pair to the scores of all the other possible candidates: if the score for the positive pair is higher than for all other candidates, our model is highly accurate.\n",
    "\n",
    "To do this, we can use the `tfrs.metrics.FactorizedTopK` metric. The metric has one required argument: the dataset of candidates that are used as implicit negatives for evaluation. It help us to understand how often the true candidate is in the top K candidates for a given query.\n",
    "\n",
    "In our case, that's the movies dataset, converted into embeddings via our movie model:"
   ]
  },
  {
   "cell_type": "code",
   "execution_count": 13,
   "id": "e89e3309-a3ad-4929-aa6d-5e294c97c11f",
   "metadata": {
    "execution": {
     "iopub.execute_input": "2022-05-08T13:44:39.221617Z",
     "iopub.status.busy": "2022-05-08T13:44:39.220617Z",
     "iopub.status.idle": "2022-05-08T13:44:39.342597Z",
     "shell.execute_reply": "2022-05-08T13:44:39.341601Z",
     "shell.execute_reply.started": "2022-05-08T13:44:39.221617Z"
    }
   },
   "outputs": [],
   "source": [
    "metrics = tfrs.metrics.FactorizedTopK(\n",
    "    candidates=movies.batch(128).map(item_model)\n",
    ")"
   ]
  },
  {
   "cell_type": "markdown",
   "id": "c7ebc832-5dd5-4bc0-a158-e2c01b3ac083",
   "metadata": {},
   "source": [
    "### Loss\n",
    "The next component is the loss used to train our model. TFRS has several loss layers and tasks to make this easy.\n",
    "\n",
    "In this instance, we'll make use of the Retrieval task object: a convenience wrapper that bundles together the loss function and metric computation:"
   ]
  },
  {
   "cell_type": "code",
   "execution_count": 14,
   "id": "dd691cdc-e885-4106-8760-e6d906203754",
   "metadata": {
    "execution": {
     "iopub.execute_input": "2022-05-08T13:44:39.349596Z",
     "iopub.status.busy": "2022-05-08T13:44:39.349596Z",
     "iopub.status.idle": "2022-05-08T13:44:39.374592Z",
     "shell.execute_reply": "2022-05-08T13:44:39.373594Z",
     "shell.execute_reply.started": "2022-05-08T13:44:39.349596Z"
    }
   },
   "outputs": [],
   "source": [
    "task = tfrs.tasks.Retrieval(\n",
    "    metrics=metrics\n",
    ")"
   ]
  },
  {
   "cell_type": "markdown",
   "id": "5f6d9891-c460-4ef5-82ec-206bae6a6d0c",
   "metadata": {},
   "source": [
    "**The task itself is a Keras layer that takes the query and candidate embeddings as arguments, and returns the computed loss: we'll use that to implement the model's training loop.**"
   ]
  },
  {
   "cell_type": "markdown",
   "id": "357744e6-5bb9-4b7c-a6d1-1942af0d02a8",
   "metadata": {},
   "source": [
    "### The full model\n",
    "We can now put it all together into a model. TFRS exposes a base model class (`tfrs.models.Model`) which streamlines building models: all we need to do is to set up the components in the `__init__` method, and implement the `compute_loss method`, taking in the raw features and returning a loss value.\n",
    "\n",
    "The base model will then take care of creating the appropriate training loop to fit our model."
   ]
  },
  {
   "cell_type": "code",
   "execution_count": 15,
   "id": "53f55d97-4bf8-4a7e-90ec-2147b80d8676",
   "metadata": {
    "execution": {
     "iopub.execute_input": "2022-05-08T13:44:39.377592Z",
     "iopub.status.busy": "2022-05-08T13:44:39.376593Z",
     "iopub.status.idle": "2022-05-08T13:44:39.405587Z",
     "shell.execute_reply": "2022-05-08T13:44:39.404586Z",
     "shell.execute_reply.started": "2022-05-08T13:44:39.377592Z"
    }
   },
   "outputs": [],
   "source": [
    "class BasicRetrivalModel(tfrs.Model):\n",
    "\n",
    "    def __init__(self, user_model, item_model):\n",
    "        super().__init__()\n",
    "        self.item_model: tf.keras.Model = item_model\n",
    "        self.user_model: tf.keras.Model = user_model\n",
    "        self.task: tf.keras.layers.Layer = task\n",
    "\n",
    "    def compute_loss(self, features: Dict[Text, tf.Tensor], training=False) -> tf.Tensor:\n",
    "        # We pick out the user features and pass them into the user model.\n",
    "        user_embeddings = self.user_model(features[\"user_id\"])\n",
    "        # And pick out the movie features and pass them into the movie model,\n",
    "        # getting embeddings back.\n",
    "        positive_item_embeddings = self.item_model(features[\"movie_title\"])\n",
    "\n",
    "        # The task computes the loss and the metrics.\n",
    "        return self.task(user_embeddings, positive_item_embeddings)"
   ]
  },
  {
   "cell_type": "markdown",
   "id": "b08b31dd-1054-4f78-9253-02a3cf5a5c92",
   "metadata": {},
   "source": [
    "The `tfrs.Model` base class is a simply convenience class: it allows us to compute both training and test losses using the same method.\n",
    "\n",
    "Under the hood, it's still a plain Keras model. You could achieve the same functionality by inheriting from `tf.keras.Model` and overriding the train_step and `test_step` functions (see [the guide](https://www.tensorflow.org/guide/keras/customizing_what_happens_in_fit) for details):"
   ]
  },
  {
   "cell_type": "code",
   "execution_count": 16,
   "id": "0524aaba-b48a-42c9-97c6-42a137d23f3d",
   "metadata": {
    "execution": {
     "iopub.execute_input": "2022-05-08T13:44:39.408587Z",
     "iopub.status.busy": "2022-05-08T13:44:39.407586Z",
     "iopub.status.idle": "2022-05-08T13:44:39.420585Z",
     "shell.execute_reply": "2022-05-08T13:44:39.419585Z",
     "shell.execute_reply.started": "2022-05-08T13:44:39.408587Z"
    }
   },
   "outputs": [],
   "source": [
    "# class NoBaseClassBasicRetrivalModel(tf.keras.Model):\n",
    "\n",
    "#     def __init__(self, user_model, item_model):\n",
    "#         super().__init__()\n",
    "#         self.item_model: tf.keras.Model = item_model\n",
    "#         self.user_model: tf.keras.Model = user_model\n",
    "#         self.task: tf.keras.layers.Layer = task\n",
    "\n",
    "#     def train_step(self, features: Dict[Text, tf.Tensor]) -> tf.Tensor:\n",
    "        \n",
    "#         # Set up a gradient tape to record gradients.\n",
    "#         with tf.GradientTape() as tape:\n",
    "#             # Loss computation.\n",
    "#             user_embeddings = self.user_model(features[\"user_id\"])\n",
    "#             positive_movie_embeddings = self.movie_model(features[\"movie_title\"])\n",
    "#             loss = self.task(user_embeddings, positive_movie_embeddings)\n",
    "\n",
    "#             # Handle regularization losses as well.\n",
    "#             regularization_loss = sum(self.losses)\n",
    "\n",
    "#             total_loss = loss + regularization_loss\n",
    "\n",
    "#         gradients = tape.gradient(total_loss, self.trainable_variables)\n",
    "#         self.optimizer.apply_gradients(zip(gradients, self.trainable_variables))\n",
    "\n",
    "#         metrics = {metric.name: metric.result() for metric in self.metrics}\n",
    "#         metrics[\"loss\"] = loss\n",
    "#         metrics[\"regularization_loss\"] = regularization_loss\n",
    "#         metrics[\"total_loss\"] = total_loss\n",
    "\n",
    "#         return metrics\n",
    "\n",
    "#     def test_step(self, features: Dict[Text, tf.Tensor]) -> tf.Tensor:\n",
    "        \n",
    "#         # Loss computation.\n",
    "#         user_embeddings = self.user_model(features[\"user_id\"])\n",
    "#         positive_item_embeddings = self.item_model(features[\"movie_title\"])\n",
    "#         loss = self.task(user_embeddings, positive_item_embeddings)\n",
    "\n",
    "#         # Handle regularization losses as well.\n",
    "#         regularization_loss = sum(self.losses)\n",
    "\n",
    "#         total_loss = loss + regularization_loss\n",
    "\n",
    "#         metrics = {metric.name: metric.result() for metric in self.metrics}\n",
    "#         metrics[\"loss\"] = loss\n",
    "#         metrics[\"regularization_loss\"] = regularization_loss\n",
    "#         metrics[\"total_loss\"] = total_loss\n",
    "\n",
    "#         return metrics"
   ]
  },
  {
   "cell_type": "markdown",
   "id": "ddd57f42-0ce6-4c3d-a7c1-a1b3ed140b05",
   "metadata": {},
   "source": [
    "Then shuffle, batch, and cache the training and evaluation data."
   ]
  },
  {
   "cell_type": "code",
   "execution_count": 17,
   "id": "4344f5c0-a934-4dba-bc1a-3f8f8326d832",
   "metadata": {
    "execution": {
     "iopub.execute_input": "2022-05-08T13:44:39.423584Z",
     "iopub.status.busy": "2022-05-08T13:44:39.422584Z",
     "iopub.status.idle": "2022-05-08T13:44:39.452580Z",
     "shell.execute_reply": "2022-05-08T13:44:39.451580Z",
     "shell.execute_reply.started": "2022-05-08T13:44:39.423584Z"
    }
   },
   "outputs": [],
   "source": [
    "cached_train = train.shuffle(100_000).batch(8192).cache()\n",
    "cached_test = test.batch(4096).cache()"
   ]
  },
  {
   "cell_type": "markdown",
   "id": "cf8f6c5c-0011-41cd-be00-e2bd0858b9c6",
   "metadata": {},
   "source": [
    "Then train the model:<br>\n",
    "If you want to monitor the training process with TensorBoard, you can add a TensorBoard callback to fit() function and then start TensorBoard using `%tensorboard --logdir logs/fit`. Please refer to [TensorBoard documentation](https://www.tensorflow.org/tensorboard/get_started) for more details."
   ]
  },
  {
   "cell_type": "markdown",
   "id": "77992077-1de4-415f-a041-b490893bfbdb",
   "metadata": {},
   "source": [
    "[Writing your own callbacks](https://www.tensorflow.org/guide/keras/custom_callback)"
   ]
  },
  {
   "cell_type": "markdown",
   "id": "de6e30d1-a86a-47fe-951b-e3ced1276f62",
   "metadata": {},
   "source": [
    "### TensorFlow Callbacks"
   ]
  },
  {
   "cell_type": "code",
   "execution_count": 18,
   "id": "31eadd34-d79a-46fc-8c1c-2d5b667dc395",
   "metadata": {
    "execution": {
     "iopub.execute_input": "2022-05-08T13:44:39.457580Z",
     "iopub.status.busy": "2022-05-08T13:44:39.456579Z",
     "iopub.status.idle": "2022-05-08T13:44:39.484574Z",
     "shell.execute_reply": "2022-05-08T13:44:39.483574Z",
     "shell.execute_reply.started": "2022-05-08T13:44:39.457580Z"
    },
    "tags": []
   },
   "outputs": [],
   "source": [
    "# create log directory\n",
    "logdir = os.path.join('../Log/retrieval/fit', datetime.datetime.now().strftime('%Y%m%d-%H%M%S'))\n",
    "tensorboard_callback = tf.keras.callbacks.TensorBoard(logdir, histogram_freq=1)\n",
    "tqdm_callback = tfa.callbacks.TQDMProgressBar()\n",
    "csv_log = tf.keras.callbacks.CSVLogger('../Log/results.csv')"
   ]
  },
  {
   "cell_type": "code",
   "execution_count": 19,
   "id": "c4412f16-466a-4e80-9a7c-b8d127661efd",
   "metadata": {
    "execution": {
     "iopub.execute_input": "2022-05-08T13:44:39.487577Z",
     "iopub.status.busy": "2022-05-08T13:44:39.486575Z",
     "iopub.status.idle": "2022-05-08T13:44:39.514569Z",
     "shell.execute_reply": "2022-05-08T13:44:39.513568Z",
     "shell.execute_reply.started": "2022-05-08T13:44:39.487577Z"
    },
    "tags": []
   },
   "outputs": [],
   "source": [
    "def train_model():\n",
    "    \"\"\"\n",
    "    After defining the model, we can use standard Keras fitting and\n",
    "    evaluation routines to fit and evaluate the model.\n",
    "    \"\"\"\n",
    "    # Let's first instantiate the model.\n",
    "    model = BasicRetrivalModel(user_model, item_model)\n",
    "    model.compile(optimizer=tf.keras.optimizers.Adagrad(learning_rate=0.1))\n",
    "    \n",
    "    # Then train the model\n",
    "    model.fit(cached_train,\n",
    "              validation_data=cached_test,\n",
    "              epochs=5,\n",
    "              verbose = 0,  # we have tqdm_callback, so we don't need to set verbose=1\n",
    "              callbacks=[tensorboard_callback, tqdm_callback, csv_log])\n",
    "    return model"
   ]
  },
  {
   "cell_type": "code",
   "execution_count": 20,
   "id": "01aa3b35-736e-4df9-bc0c-037ae98959bd",
   "metadata": {
    "execution": {
     "iopub.execute_input": "2022-05-08T13:44:39.518569Z",
     "iopub.status.busy": "2022-05-08T13:44:39.517569Z",
     "iopub.status.idle": "2022-05-08T13:47:11.548388Z",
     "shell.execute_reply": "2022-05-08T13:47:11.542390Z",
     "shell.execute_reply.started": "2022-05-08T13:44:39.517569Z"
    },
    "tags": []
   },
   "outputs": [
    {
     "data": {
      "application/vnd.jupyter.widget-view+json": {
       "model_id": "9e8acafaa1d242c092f9168a72f01f36",
       "version_major": 2,
       "version_minor": 0
      },
      "text/plain": [
       "Training:   0%|           0/5 ETA: ?s,  ?epochs/s"
      ]
     },
     "metadata": {},
     "output_type": "display_data"
    },
    {
     "name": "stdout",
     "output_type": "stream",
     "text": [
      "Epoch 1/5\n"
     ]
    },
    {
     "data": {
      "application/vnd.jupyter.widget-view+json": {
       "model_id": "c9fb7a58519647499cd7a43fc114f37f",
       "version_major": 2,
       "version_minor": 0
      },
      "text/plain": [
       "0/10           ETA: ?s - "
      ]
     },
     "metadata": {},
     "output_type": "display_data"
    },
    {
     "name": "stdout",
     "output_type": "stream",
     "text": [
      "Epoch 2/5\n"
     ]
    },
    {
     "data": {
      "application/vnd.jupyter.widget-view+json": {
       "model_id": "44c62bdfee0a47f1aab6ad07c770372c",
       "version_major": 2,
       "version_minor": 0
      },
      "text/plain": [
       "0/10           ETA: ?s - "
      ]
     },
     "metadata": {},
     "output_type": "display_data"
    },
    {
     "name": "stdout",
     "output_type": "stream",
     "text": [
      "Epoch 3/5\n"
     ]
    },
    {
     "data": {
      "application/vnd.jupyter.widget-view+json": {
       "model_id": "462d1248386f42cda46ecc1a6b509df1",
       "version_major": 2,
       "version_minor": 0
      },
      "text/plain": [
       "0/10           ETA: ?s - "
      ]
     },
     "metadata": {},
     "output_type": "display_data"
    },
    {
     "name": "stdout",
     "output_type": "stream",
     "text": [
      "Epoch 4/5\n"
     ]
    },
    {
     "data": {
      "application/vnd.jupyter.widget-view+json": {
       "model_id": "b18fda1219bd48afb4cb1d4f0aacf068",
       "version_major": 2,
       "version_minor": 0
      },
      "text/plain": [
       "0/10           ETA: ?s - "
      ]
     },
     "metadata": {},
     "output_type": "display_data"
    },
    {
     "name": "stdout",
     "output_type": "stream",
     "text": [
      "Epoch 5/5\n"
     ]
    },
    {
     "data": {
      "application/vnd.jupyter.widget-view+json": {
       "model_id": "12340fd62191439596c7fc14f8b87572",
       "version_major": 2,
       "version_minor": 0
      },
      "text/plain": [
       "0/10           ETA: ?s - "
      ]
     },
     "metadata": {},
     "output_type": "display_data"
    }
   ],
   "source": [
    "model = train_model()"
   ]
  },
  {
   "cell_type": "markdown",
   "id": "d2fe75bc-8fca-45ef-92bd-cfd7c7a9caa2",
   "metadata": {},
   "source": [
    "## TensorBoard"
   ]
  },
  {
   "cell_type": "code",
   "execution_count": 21,
   "id": "12691fd9-e462-409f-a065-460f2eb28584",
   "metadata": {
    "execution": {
     "iopub.execute_input": "2022-05-08T13:47:11.566384Z",
     "iopub.status.busy": "2022-05-08T13:47:11.561384Z",
     "iopub.status.idle": "2022-05-08T13:47:11.604378Z",
     "shell.execute_reply": "2022-05-08T13:47:11.601378Z",
     "shell.execute_reply.started": "2022-05-08T13:47:11.566384Z"
    },
    "tags": []
   },
   "outputs": [
    {
     "name": "stdout",
     "output_type": "stream",
     "text": [
      "Known TensorBoard instances:\n",
      "  - port 6006: logdir ../Log/retrieval/fit/ (started 21:29:07 ago; pid 11012)\n",
      "  - port 6006: logdir ../Log/retrieval/fit/ (started 21:21:12 ago; pid 14356)\n",
      "  - port 6006: logdir ../Log/retrieval/fit/ (started 1 day, 4:29:12 ago; pid 15680)\n",
      "  - port 6006: logdir ../Log/retrieval/fit/ (started 1 day, 4:21:23 ago; pid 16900)\n",
      "  - port 6006: logdir ../Log/retrieval/fit/ (started 0:05:33 ago; pid 2652)\n",
      "  - port 6006: logdir ../Log/retrieval/fit/ (started 1 day, 2:17:39 ago; pid 8248)\n"
     ]
    }
   ],
   "source": [
    "notebook.list()  # View open Tensorboard instances"
   ]
  },
  {
   "cell_type": "code",
   "execution_count": 22,
   "id": "c852738f-bad2-47a1-9197-5b62cb618e80",
   "metadata": {
    "execution": {
     "iopub.execute_input": "2022-05-08T13:47:11.618376Z",
     "iopub.status.busy": "2022-05-08T13:47:11.618376Z",
     "iopub.status.idle": "2022-05-08T13:47:42.142059Z",
     "shell.execute_reply": "2022-05-08T13:47:42.140059Z",
     "shell.execute_reply.started": "2022-05-08T13:47:11.618376Z"
    },
    "tags": []
   },
   "outputs": [
    {
     "name": "stdout",
     "output_type": "stream",
     "text": [
      "launch tensorboard process...\n"
     ]
    },
    {
     "data": {
      "text/plain": [
       "Reusing TensorBoard on port 6006 (pid 11012), started 21:29:38 ago. (Use '!kill 11012' to kill it.)"
      ]
     },
     "metadata": {},
     "output_type": "display_data"
    },
    {
     "data": {
      "text/html": [
       "\n",
       "      <iframe id=\"tensorboard-frame-5d94d58c885dd1c0\" width=\"100%\" height=\"800\" frameborder=\"0\">\n",
       "      </iframe>\n",
       "      <script>\n",
       "        (function() {\n",
       "          const frame = document.getElementById(\"tensorboard-frame-5d94d58c885dd1c0\");\n",
       "          const url = new URL(\"/\", window.location);\n",
       "          const port = 6006;\n",
       "          if (port) {\n",
       "            url.port = port;\n",
       "          }\n",
       "          frame.src = url;\n",
       "        })();\n",
       "      </script>\n",
       "    "
      ],
      "text/plain": [
       "<IPython.core.display.HTML object>"
      ]
     },
     "metadata": {},
     "output_type": "display_data"
    }
   ],
   "source": [
    "def process_exists(process_name):\n",
    "    \"\"\"\n",
    "    check if process currently exists in OS System Taklist\n",
    "    \"\"\"\n",
    "    MY_PLATFORM = platform.system()\n",
    "    if MY_PLATFORM == 'Windows':\n",
    "        call = 'TASKLIST /FI \"IMAGENAME eq ' + process_name + '\"'\n",
    "        run_obj = subprocess.run(call, capture_output=True)\n",
    "        if re.search(process_name,\n",
    "                    run_obj.stdout.decode('utf-8', 'backslashreplace')):\n",
    "            return True\n",
    "        else:\n",
    "            return False\n",
    "    else:\n",
    "        p = subprocess.Popen(['ps', '-A'], stdout=subprocess.PIPE)\n",
    "        out, err = p.communicate()\n",
    "        out = out.decode('utf-8', 'backslashreplace')\n",
    "        for line in out.splitlines():\n",
    "            if process_name in line:\n",
    "                return True\n",
    "        return False\n",
    "    \n",
    "logs_base_dir = '../Log/retrieval/fit/'\n",
    "\n",
    "if process_exists('tensorboard.exe'):\n",
    "    pass\n",
    "elif process_exists('tensorboard'):\n",
    "    pass\n",
    "else:\n",
    "    print('launch tensorboard process...')\n",
    "    popen_obj = subprocess.Popen(['tensorboard', '--logdir', logs_base_dir, '--port', '6006'])\n",
    "    \n",
    "    # patch to wait process\n",
    "    time.sleep(30)\n",
    "    \n",
    "# Load the TensoorBoard notebook extension\n",
    "%load_ext tensorboard\n",
    "%tensorboard --logdir {logs_base_dir} --port 6006"
   ]
  },
  {
   "cell_type": "code",
   "execution_count": 23,
   "id": "a3cb985b-8f54-410c-b4d8-dafc98ca7ae3",
   "metadata": {
    "execution": {
     "iopub.execute_input": "2022-05-08T13:47:42.146059Z",
     "iopub.status.busy": "2022-05-08T13:47:42.144059Z",
     "iopub.status.idle": "2022-05-08T13:47:42.159057Z",
     "shell.execute_reply": "2022-05-08T13:47:42.155058Z",
     "shell.execute_reply.started": "2022-05-08T13:47:42.146059Z"
    },
    "tags": []
   },
   "outputs": [],
   "source": [
    "# # Load the TensorBoard notebook extension\n",
    "# %load_ext tensorboard"
   ]
  },
  {
   "cell_type": "code",
   "execution_count": 24,
   "id": "fda2c4b7-e6d7-4152-af59-ab37ba8aa5e8",
   "metadata": {
    "execution": {
     "iopub.execute_input": "2022-05-08T13:47:42.164057Z",
     "iopub.status.busy": "2022-05-08T13:47:42.162056Z",
     "iopub.status.idle": "2022-05-08T13:47:42.185053Z",
     "shell.execute_reply": "2022-05-08T13:47:42.184054Z",
     "shell.execute_reply.started": "2022-05-08T13:47:42.163058Z"
    },
    "tags": []
   },
   "outputs": [],
   "source": [
    "# %tensorboard --logdir ../Log/fit --port 6006"
   ]
  },
  {
   "cell_type": "markdown",
   "id": "afed2211-12d4-46e5-b267-ec49f03a39a4",
   "metadata": {},
   "source": [
    "As the model trains, the loss is falling and a set of top-k retrieval metrics is updated. These tell us whether the true positive is in the top-k retrieved items from the entire candidate set. For example, a top-5 categorical accuracy metric of 0.2 would tell us that, on average, the true positive is in the top 5 retrieved items 20% of the time.\n",
    "\n",
    "Note that, in this example, we evaluate the metrics during training as well as evaluation. Because this can be quite slow with large candidate sets, it may be prudent to turn metric calculation off in training, and only run it in evaluation."
   ]
  },
  {
   "cell_type": "markdown",
   "id": "f2818c96-41dd-4169-9f8d-57d964b4a47d",
   "metadata": {},
   "source": [
    "#### Advanced skill 1: Get result from event file created by tensorboard callback"
   ]
  },
  {
   "cell_type": "code",
   "execution_count": 25,
   "id": "5d8033eb-a03b-41a8-94d6-65d3bec790a8",
   "metadata": {
    "execution": {
     "iopub.execute_input": "2022-05-08T13:47:42.191053Z",
     "iopub.status.busy": "2022-05-08T13:47:42.191053Z",
     "iopub.status.idle": "2022-05-08T13:47:42.216048Z",
     "shell.execute_reply": "2022-05-08T13:47:42.215051Z",
     "shell.execute_reply.started": "2022-05-08T13:47:42.191053Z"
    },
    "tags": []
   },
   "outputs": [],
   "source": [
    "def _summary_iterator(test_dir):\n",
    "    \"\"\"Reads events from test_dir/events.\n",
    "    Args:\n",
    "    test_dir: Name of the test directory.\n",
    "    Returns:\n",
    "    A summary_iterator\n",
    "    \"\"\"\n",
    "    event_paths = sorted(glob.glob(os.path.join(test_dir, \"event*\")))\n",
    "    return summary_iterator(event_paths[-1])  # return the latest event"
   ]
  },
  {
   "cell_type": "code",
   "execution_count": 26,
   "id": "aa764c92-9ba7-4d57-92cc-b02fa68dd8f8",
   "metadata": {
    "execution": {
     "iopub.execute_input": "2022-05-08T13:47:42.223052Z",
     "iopub.status.busy": "2022-05-08T13:47:42.219047Z",
     "iopub.status.idle": "2022-05-08T13:47:42.277038Z",
     "shell.execute_reply": "2022-05-08T13:47:42.276039Z",
     "shell.execute_reply.started": "2022-05-08T13:47:42.223052Z"
    },
    "tags": []
   },
   "outputs": [
    {
     "name": "stdout",
     "output_type": "stream",
     "text": [
      "WARNING:tensorflow:From D:\\Anaconda3\\envs\\tensorflow2\\lib\\site-packages\\tensorflow\\python\\summary\\summary_iterator.py:27: tf_record_iterator (from tensorflow.python.lib.io.tf_record) is deprecated and will be removed in a future version.\n",
      "Instructions for updating:\n",
      "Use eager execution and: \n",
      "`tf.data.TFRecordDataset(path)`\n",
      "epoch_factorized_top_k/top_100_categorical_accuracy 0 0.1765375 <class 'numpy.ndarray'>\n",
      "epoch_factorized_top_k/top_100_categorical_accuracy 1 0.29915 <class 'numpy.ndarray'>\n",
      "epoch_factorized_top_k/top_100_categorical_accuracy 2 0.3170375 <class 'numpy.ndarray'>\n",
      "epoch_factorized_top_k/top_100_categorical_accuracy 3 0.3357375 <class 'numpy.ndarray'>\n",
      "epoch_factorized_top_k/top_100_categorical_accuracy 4 0.3497 <class 'numpy.ndarray'>\n"
     ]
    }
   ],
   "source": [
    "for event in _summary_iterator('../Log/retrieval/fit/20220508-213846/train'):\n",
    "    for value in event.summary.value:\n",
    "        t = tensor_util.MakeNdarray(value.tensor)\n",
    "        if value.tag == 'epoch_factorized_top_k/top_100_categorical_accuracy':\n",
    "            print(value.tag, event.step, t, type(t))"
   ]
  },
  {
   "cell_type": "markdown",
   "id": "3616ac10-e887-4b91-a0bb-71c74d582b14",
   "metadata": {},
   "source": [
    "#### Advanced skill 2: Get result from CSV file created by tensorflow callback"
   ]
  },
  {
   "cell_type": "code",
   "execution_count": 27,
   "id": "57a175ae-b2b1-40cf-b525-69d24b4a3469",
   "metadata": {
    "execution": {
     "iopub.execute_input": "2022-05-08T13:47:42.279040Z",
     "iopub.status.busy": "2022-05-08T13:47:42.278037Z",
     "iopub.status.idle": "2022-05-08T13:47:42.465116Z",
     "shell.execute_reply": "2022-05-08T13:47:42.464190Z",
     "shell.execute_reply.started": "2022-05-08T13:47:42.279040Z"
    },
    "tags": []
   },
   "outputs": [
    {
     "data": {
      "text/html": [
       "<div>\n",
       "<style scoped>\n",
       "    .dataframe tbody tr th:only-of-type {\n",
       "        vertical-align: middle;\n",
       "    }\n",
       "\n",
       "    .dataframe tbody tr th {\n",
       "        vertical-align: top;\n",
       "    }\n",
       "\n",
       "    .dataframe thead th {\n",
       "        text-align: right;\n",
       "    }\n",
       "</style>\n",
       "<table border=\"1\" class=\"dataframe\">\n",
       "  <thead>\n",
       "    <tr style=\"text-align: right;\">\n",
       "      <th></th>\n",
       "      <th>factorized_top_k/top_100_categorical_accuracy</th>\n",
       "      <th>factorized_top_k/top_10_categorical_accuracy</th>\n",
       "      <th>factorized_top_k/top_1_categorical_accuracy</th>\n",
       "      <th>factorized_top_k/top_50_categorical_accuracy</th>\n",
       "      <th>factorized_top_k/top_5_categorical_accuracy</th>\n",
       "      <th>loss</th>\n",
       "      <th>regularization_loss</th>\n",
       "      <th>total_loss</th>\n",
       "      <th>val_factorized_top_k/top_100_categorical_accuracy</th>\n",
       "      <th>val_factorized_top_k/top_10_categorical_accuracy</th>\n",
       "      <th>val_factorized_top_k/top_1_categorical_accuracy</th>\n",
       "      <th>val_factorized_top_k/top_50_categorical_accuracy</th>\n",
       "      <th>val_factorized_top_k/top_5_categorical_accuracy</th>\n",
       "      <th>val_loss</th>\n",
       "      <th>val_regularization_loss</th>\n",
       "      <th>val_total_loss</th>\n",
       "    </tr>\n",
       "    <tr>\n",
       "      <th>epoch</th>\n",
       "      <th></th>\n",
       "      <th></th>\n",
       "      <th></th>\n",
       "      <th></th>\n",
       "      <th></th>\n",
       "      <th></th>\n",
       "      <th></th>\n",
       "      <th></th>\n",
       "      <th></th>\n",
       "      <th></th>\n",
       "      <th></th>\n",
       "      <th></th>\n",
       "      <th></th>\n",
       "      <th></th>\n",
       "      <th></th>\n",
       "      <th></th>\n",
       "    </tr>\n",
       "  </thead>\n",
       "  <tbody>\n",
       "    <tr>\n",
       "      <th>0</th>\n",
       "      <td>0.176537</td>\n",
       "      <td>0.019987</td>\n",
       "      <td>0.001088</td>\n",
       "      <td>0.100238</td>\n",
       "      <td>0.009325</td>\n",
       "      <td>53627.257812</td>\n",
       "      <td>0</td>\n",
       "      <td>53627.257812</td>\n",
       "      <td>0.27250</td>\n",
       "      <td>0.03070</td>\n",
       "      <td>0.00190</td>\n",
       "      <td>0.15305</td>\n",
       "      <td>0.01425</td>\n",
       "      <td>28805.121094</td>\n",
       "      <td>0</td>\n",
       "      <td>28805.121094</td>\n",
       "    </tr>\n",
       "    <tr>\n",
       "      <th>1</th>\n",
       "      <td>0.299150</td>\n",
       "      <td>0.039825</td>\n",
       "      <td>0.003388</td>\n",
       "      <td>0.174700</td>\n",
       "      <td>0.019963</td>\n",
       "      <td>52096.187500</td>\n",
       "      <td>0</td>\n",
       "      <td>52096.187500</td>\n",
       "      <td>0.24930</td>\n",
       "      <td>0.02575</td>\n",
       "      <td>0.00185</td>\n",
       "      <td>0.13575</td>\n",
       "      <td>0.01140</td>\n",
       "      <td>28306.634766</td>\n",
       "      <td>0</td>\n",
       "      <td>28306.634766</td>\n",
       "    </tr>\n",
       "    <tr>\n",
       "      <th>2</th>\n",
       "      <td>0.317037</td>\n",
       "      <td>0.046712</td>\n",
       "      <td>0.003775</td>\n",
       "      <td>0.190787</td>\n",
       "      <td>0.023688</td>\n",
       "      <td>51441.191406</td>\n",
       "      <td>0</td>\n",
       "      <td>51441.191406</td>\n",
       "      <td>0.23755</td>\n",
       "      <td>0.02110</td>\n",
       "      <td>0.00095</td>\n",
       "      <td>0.12555</td>\n",
       "      <td>0.00875</td>\n",
       "      <td>28250.146484</td>\n",
       "      <td>0</td>\n",
       "      <td>28250.146484</td>\n",
       "    </tr>\n",
       "    <tr>\n",
       "      <th>3</th>\n",
       "      <td>0.335737</td>\n",
       "      <td>0.051838</td>\n",
       "      <td>0.004163</td>\n",
       "      <td>0.204600</td>\n",
       "      <td>0.026375</td>\n",
       "      <td>51001.242188</td>\n",
       "      <td>0</td>\n",
       "      <td>51001.242188</td>\n",
       "      <td>0.22430</td>\n",
       "      <td>0.01665</td>\n",
       "      <td>0.00060</td>\n",
       "      <td>0.11790</td>\n",
       "      <td>0.00690</td>\n",
       "      <td>28299.076172</td>\n",
       "      <td>0</td>\n",
       "      <td>28299.076172</td>\n",
       "    </tr>\n",
       "    <tr>\n",
       "      <th>4</th>\n",
       "      <td>0.349700</td>\n",
       "      <td>0.056700</td>\n",
       "      <td>0.004362</td>\n",
       "      <td>0.215762</td>\n",
       "      <td>0.028550</td>\n",
       "      <td>50669.531250</td>\n",
       "      <td>0</td>\n",
       "      <td>50669.531250</td>\n",
       "      <td>0.21495</td>\n",
       "      <td>0.01450</td>\n",
       "      <td>0.00035</td>\n",
       "      <td>0.10795</td>\n",
       "      <td>0.00485</td>\n",
       "      <td>28386.710938</td>\n",
       "      <td>0</td>\n",
       "      <td>28386.710938</td>\n",
       "    </tr>\n",
       "  </tbody>\n",
       "</table>\n",
       "</div>"
      ],
      "text/plain": [
       "       factorized_top_k/top_100_categorical_accuracy  \\\n",
       "epoch                                                  \n",
       "0                                           0.176537   \n",
       "1                                           0.299150   \n",
       "2                                           0.317037   \n",
       "3                                           0.335737   \n",
       "4                                           0.349700   \n",
       "\n",
       "       factorized_top_k/top_10_categorical_accuracy  \\\n",
       "epoch                                                 \n",
       "0                                          0.019987   \n",
       "1                                          0.039825   \n",
       "2                                          0.046712   \n",
       "3                                          0.051838   \n",
       "4                                          0.056700   \n",
       "\n",
       "       factorized_top_k/top_1_categorical_accuracy  \\\n",
       "epoch                                                \n",
       "0                                         0.001088   \n",
       "1                                         0.003388   \n",
       "2                                         0.003775   \n",
       "3                                         0.004163   \n",
       "4                                         0.004362   \n",
       "\n",
       "       factorized_top_k/top_50_categorical_accuracy  \\\n",
       "epoch                                                 \n",
       "0                                          0.100238   \n",
       "1                                          0.174700   \n",
       "2                                          0.190787   \n",
       "3                                          0.204600   \n",
       "4                                          0.215762   \n",
       "\n",
       "       factorized_top_k/top_5_categorical_accuracy          loss  \\\n",
       "epoch                                                              \n",
       "0                                         0.009325  53627.257812   \n",
       "1                                         0.019963  52096.187500   \n",
       "2                                         0.023688  51441.191406   \n",
       "3                                         0.026375  51001.242188   \n",
       "4                                         0.028550  50669.531250   \n",
       "\n",
       "       regularization_loss    total_loss  \\\n",
       "epoch                                      \n",
       "0                        0  53627.257812   \n",
       "1                        0  52096.187500   \n",
       "2                        0  51441.191406   \n",
       "3                        0  51001.242188   \n",
       "4                        0  50669.531250   \n",
       "\n",
       "       val_factorized_top_k/top_100_categorical_accuracy  \\\n",
       "epoch                                                      \n",
       "0                                                0.27250   \n",
       "1                                                0.24930   \n",
       "2                                                0.23755   \n",
       "3                                                0.22430   \n",
       "4                                                0.21495   \n",
       "\n",
       "       val_factorized_top_k/top_10_categorical_accuracy  \\\n",
       "epoch                                                     \n",
       "0                                               0.03070   \n",
       "1                                               0.02575   \n",
       "2                                               0.02110   \n",
       "3                                               0.01665   \n",
       "4                                               0.01450   \n",
       "\n",
       "       val_factorized_top_k/top_1_categorical_accuracy  \\\n",
       "epoch                                                    \n",
       "0                                              0.00190   \n",
       "1                                              0.00185   \n",
       "2                                              0.00095   \n",
       "3                                              0.00060   \n",
       "4                                              0.00035   \n",
       "\n",
       "       val_factorized_top_k/top_50_categorical_accuracy  \\\n",
       "epoch                                                     \n",
       "0                                               0.15305   \n",
       "1                                               0.13575   \n",
       "2                                               0.12555   \n",
       "3                                               0.11790   \n",
       "4                                               0.10795   \n",
       "\n",
       "       val_factorized_top_k/top_5_categorical_accuracy      val_loss  \\\n",
       "epoch                                                                  \n",
       "0                                              0.01425  28805.121094   \n",
       "1                                              0.01140  28306.634766   \n",
       "2                                              0.00875  28250.146484   \n",
       "3                                              0.00690  28299.076172   \n",
       "4                                              0.00485  28386.710938   \n",
       "\n",
       "       val_regularization_loss  val_total_loss  \n",
       "epoch                                           \n",
       "0                            0    28805.121094  \n",
       "1                            0    28306.634766  \n",
       "2                            0    28250.146484  \n",
       "3                            0    28299.076172  \n",
       "4                            0    28386.710938  "
      ]
     },
     "execution_count": 27,
     "metadata": {},
     "output_type": "execute_result"
    }
   ],
   "source": [
    "pd.read_csv('../Log/results.csv', index_col='epoch')"
   ]
  },
  {
   "cell_type": "markdown",
   "id": "249c9d22-67c1-441d-904e-b9dc42902b0d",
   "metadata": {
    "tags": []
   },
   "source": [
    "## Model Evaluation\n",
    "Finally, we can evaluate our model on the test set:"
   ]
  },
  {
   "cell_type": "code",
   "execution_count": 27,
   "id": "a75cd4b3-6886-4447-8ec4-82bf5411fdc7",
   "metadata": {
    "execution": {
     "iopub.execute_input": "2022-05-07T16:26:22.883836Z",
     "iopub.status.busy": "2022-05-07T16:26:22.880835Z",
     "iopub.status.idle": "2022-05-07T16:26:28.176008Z",
     "shell.execute_reply": "2022-05-07T16:26:28.175009Z",
     "shell.execute_reply.started": "2022-05-07T16:26:22.883836Z"
    },
    "tags": []
   },
   "outputs": [
    {
     "data": {
      "application/vnd.jupyter.widget-view+json": {
       "model_id": "2bb84a307e8644049a42b68d3eee0db2",
       "version_major": 2,
       "version_minor": 0
      },
      "text/plain": [
       "0/5           ETA: ?s - Evaluating"
      ]
     },
     "metadata": {},
     "output_type": "display_data"
    },
    {
     "data": {
      "text/plain": [
       "{'factorized_top_k/top_1_categorical_accuracy': 0.0003499999875202775,\n",
       " 'factorized_top_k/top_5_categorical_accuracy': 0.0048500001430511475,\n",
       " 'factorized_top_k/top_10_categorical_accuracy': 0.014499999582767487,\n",
       " 'factorized_top_k/top_50_categorical_accuracy': 0.10795000195503235,\n",
       " 'factorized_top_k/top_100_categorical_accuracy': 0.21494999527931213,\n",
       " 'loss': 28386.7109375,\n",
       " 'regularization_loss': 0,\n",
       " 'total_loss': 28386.7109375}"
      ]
     },
     "execution_count": 27,
     "metadata": {},
     "output_type": "execute_result"
    }
   ],
   "source": [
    "model.evaluate(cached_test,\n",
    "               verbose=0,\n",
    "               callbacks=[tqdm_callback],\n",
    "               return_dict=True)"
   ]
  },
  {
   "cell_type": "markdown",
   "id": "24675210-d219-4f3b-b3bf-a1a9f0d3a97c",
   "metadata": {},
   "source": [
    "Test set performance is much worse than training performance. This is due to two factors:\n",
    "\n",
    "1. Our model is likely to perform better on the data that it has seen, simply because it can memorize it. This overfitting phenomenon is especially strong when models have many parameters. It can be mediated by model regularization and use of user and movie features that help the model generalize better to unseen data.\n",
    "2. The model is re-recommending some of users’ already watched movies. These known-positive watches can crowd out test movies out of top K recommendations.\n",
    "\n",
    "The second phenomenon can be tackled by excluding previously seen movies from test recommendations. This approach is relatively common in the recommender systems literature, but we don’t follow it in these tutorials. If not recommending past watches is important, we should expect appropriately specified models to learn this behaviour automatically from past user history and contextual information. Additionally, it is often appropriate to recommend the same item multiple times (say, an evergreen TV series or a regularly purchased item)."
   ]
  },
  {
   "cell_type": "markdown",
   "id": "8704a0e9-6def-46e2-a5f6-c3fcce06ac88",
   "metadata": {},
   "source": [
    "## Making predictions\n",
    "Now that we have a model, we would like to be able to make predictions. We can use the `tfrs.layers.factorized_top_k.BruteForce` layer to do this."
   ]
  },
  {
   "cell_type": "code",
   "execution_count": 28,
   "id": "8a96950d-17e1-4c63-aa59-4245a1c28d04",
   "metadata": {
    "execution": {
     "iopub.execute_input": "2022-05-07T16:26:28.179009Z",
     "iopub.status.busy": "2022-05-07T16:26:28.179009Z",
     "iopub.status.idle": "2022-05-07T16:26:28.303989Z",
     "shell.execute_reply": "2022-05-07T16:26:28.302989Z",
     "shell.execute_reply.started": "2022-05-07T16:26:28.179009Z"
    },
    "tags": []
   },
   "outputs": [
    {
     "name": "stdout",
     "output_type": "stream",
     "text": [
      "Recommendations for user 42: [b'All Dogs Go to Heaven 2 (1996)' b'Father of the Bride Part II (1995)'\n",
      " b'Grumpier Old Men (1995)' b'Rudy (1993)' b'Outbreak (1995)'\n",
      " b'Rent-a-Kid (1995)' b'Michael (1996)' b'Firm, The (1993)'\n",
      " b'Indian in the Cupboard, The (1995)'\n",
      " b'Bridges of Madison County, The (1995)']\n"
     ]
    }
   ],
   "source": [
    "# Create a model that takes in raw query features, and\n",
    "index = tfrs.layers.factorized_top_k.BruteForce(model.user_model, k=20)\n",
    "# recommends movies out of the entire movies dataset.\n",
    "index.index_from_dataset(\n",
    "  tf.data.Dataset.zip((movies.batch(100), movies.batch(100).map(model.item_model)))\n",
    ")\n",
    "\n",
    "# Get recommendations.\n",
    "score, items = index(tf.constant([\"42\"]))\n",
    "print(f\"Recommendations for user 42: {items[0, :10]}\")"
   ]
  },
  {
   "cell_type": "code",
   "execution_count": 29,
   "id": "0376cb9d-e603-467c-9cb2-c2dc1076e387",
   "metadata": {
    "execution": {
     "iopub.execute_input": "2022-05-07T16:26:28.307988Z",
     "iopub.status.busy": "2022-05-07T16:26:28.305987Z",
     "iopub.status.idle": "2022-05-07T16:26:28.340533Z",
     "shell.execute_reply": "2022-05-07T16:26:28.334531Z",
     "shell.execute_reply.started": "2022-05-07T16:26:28.307988Z"
    },
    "tags": []
   },
   "outputs": [
    {
     "data": {
      "text/plain": [
       "['All Dogs Go to Heaven 2 (1996)',\n",
       " 'Father of the Bride Part II (1995)',\n",
       " 'Grumpier Old Men (1995)',\n",
       " 'Rudy (1993)',\n",
       " 'Outbreak (1995)',\n",
       " 'Rent-a-Kid (1995)',\n",
       " 'Michael (1996)',\n",
       " 'Firm, The (1993)',\n",
       " 'Indian in the Cupboard, The (1995)',\n",
       " 'Bridges of Madison County, The (1995)',\n",
       " 'Tombstone (1993)',\n",
       " 'Just Cause (1995)',\n",
       " 'Pretty Woman (1990)',\n",
       " 'Boys on the Side (1995)',\n",
       " 'Man Without a Face, The (1993)',\n",
       " 'Lion King, The (1994)',\n",
       " 'Foxfire (1996)',\n",
       " 'Something to Talk About (1995)',\n",
       " 'Land Before Time III: The Time of the Great Giving (1995) (V)',\n",
       " 'Ghost (1990)']"
      ]
     },
     "execution_count": 29,
     "metadata": {},
     "output_type": "execute_result"
    }
   ],
   "source": [
    "recommendation_list = items.numpy()[0]\n",
    "recommendation_list = [i.decode('UTF-8') for i in recommendation_list]\n",
    "recommendation_list"
   ]
  },
  {
   "cell_type": "code",
   "execution_count": 30,
   "id": "70492d31-b616-417b-bf80-17a731fe3488",
   "metadata": {
    "execution": {
     "iopub.execute_input": "2022-05-07T16:26:28.342523Z",
     "iopub.status.busy": "2022-05-07T16:26:28.342523Z",
     "iopub.status.idle": "2022-05-07T16:26:32.911324Z",
     "shell.execute_reply": "2022-05-07T16:26:32.910325Z",
     "shell.execute_reply.started": "2022-05-07T16:26:28.342523Z"
    },
    "tags": []
   },
   "outputs": [
    {
     "data": {
      "application/vnd.jupyter.widget-view+json": {
       "model_id": "64a0510502414460a4bc4cd41cac9da6",
       "version_major": 2,
       "version_minor": 0
      },
      "text/plain": [
       "  0%|          | 0/943 [00:00<?, ?it/s]"
      ]
     },
     "metadata": {},
     "output_type": "display_data"
    }
   ],
   "source": [
    "li_all = []\n",
    "for _id in tqdm(ratings_df['user_id'].unique()):\n",
    "    scores, items = index(tf.constant([_id]))\n",
    "    \n",
    "    recommendation_list = items.numpy()[0]\n",
    "    recommendation_list = [item.decode('UTF-8') for item in recommendation_list]\n",
    "    \n",
    "    recommendation_score_list = scores.numpy()[0]\n",
    "    recommendation_score_list = [score for score in recommendation_score_list]\n",
    "    \n",
    "    li_all.append([_id, recommendation_list, recommendation_score_list])\n",
    "\n",
    "result_df = pd.DataFrame(li_all, columns=['user_id', 'item', 'score'])"
   ]
  },
  {
   "cell_type": "code",
   "execution_count": 31,
   "id": "1bd56b7c-bb89-4af7-9664-1e27993c2fb2",
   "metadata": {
    "execution": {
     "iopub.execute_input": "2022-05-07T16:26:32.914324Z",
     "iopub.status.busy": "2022-05-07T16:26:32.913325Z",
     "iopub.status.idle": "2022-05-07T16:26:32.958316Z",
     "shell.execute_reply": "2022-05-07T16:26:32.957316Z",
     "shell.execute_reply.started": "2022-05-07T16:26:32.914324Z"
    }
   },
   "outputs": [
    {
     "data": {
      "text/html": [
       "<div>\n",
       "<style scoped>\n",
       "    .dataframe tbody tr th:only-of-type {\n",
       "        vertical-align: middle;\n",
       "    }\n",
       "\n",
       "    .dataframe tbody tr th {\n",
       "        vertical-align: top;\n",
       "    }\n",
       "\n",
       "    .dataframe thead th {\n",
       "        text-align: right;\n",
       "    }\n",
       "</style>\n",
       "<table border=\"1\" class=\"dataframe\">\n",
       "  <thead>\n",
       "    <tr style=\"text-align: right;\">\n",
       "      <th></th>\n",
       "      <th>user_id</th>\n",
       "      <th>item</th>\n",
       "      <th>score</th>\n",
       "    </tr>\n",
       "  </thead>\n",
       "  <tbody>\n",
       "    <tr>\n",
       "      <th>0</th>\n",
       "      <td>196</td>\n",
       "      <td>[Marvin's Room (1996), Muriel's Wedding (1994)...</td>\n",
       "      <td>[3.2124872, 3.2012463, 3.050365, 2.9061198, 2....</td>\n",
       "    </tr>\n",
       "    <tr>\n",
       "      <th>1</th>\n",
       "      <td>186</td>\n",
       "      <td>[Rich Man's Wife, The (1996), Set It Off (1996...</td>\n",
       "      <td>[3.7101855, 3.312335, 3.2354455, 3.2006693, 3....</td>\n",
       "    </tr>\n",
       "    <tr>\n",
       "      <th>2</th>\n",
       "      <td>22</td>\n",
       "      <td>[Houseguest (1994), Jingle All the Way (1996),...</td>\n",
       "      <td>[3.1025152, 3.0470707, 2.909378, 2.8906102, 2....</td>\n",
       "    </tr>\n",
       "    <tr>\n",
       "      <th>3</th>\n",
       "      <td>244</td>\n",
       "      <td>[Dazed and Confused (1993), Now and Then (1995...</td>\n",
       "      <td>[2.5598068, 2.5264373, 2.1983883, 2.1912973, 2...</td>\n",
       "    </tr>\n",
       "    <tr>\n",
       "      <th>4</th>\n",
       "      <td>166</td>\n",
       "      <td>[Flubber (1997), Mouse Hunt (1997), Anastasia ...</td>\n",
       "      <td>[5.895788, 5.4204464, 5.307049, 5.2902536, 5.2...</td>\n",
       "    </tr>\n",
       "  </tbody>\n",
       "</table>\n",
       "</div>"
      ],
      "text/plain": [
       "  user_id                                               item  \\\n",
       "0     196  [Marvin's Room (1996), Muriel's Wedding (1994)...   \n",
       "1     186  [Rich Man's Wife, The (1996), Set It Off (1996...   \n",
       "2      22  [Houseguest (1994), Jingle All the Way (1996),...   \n",
       "3     244  [Dazed and Confused (1993), Now and Then (1995...   \n",
       "4     166  [Flubber (1997), Mouse Hunt (1997), Anastasia ...   \n",
       "\n",
       "                                               score  \n",
       "0  [3.2124872, 3.2012463, 3.050365, 2.9061198, 2....  \n",
       "1  [3.7101855, 3.312335, 3.2354455, 3.2006693, 3....  \n",
       "2  [3.1025152, 3.0470707, 2.909378, 2.8906102, 2....  \n",
       "3  [2.5598068, 2.5264373, 2.1983883, 2.1912973, 2...  \n",
       "4  [5.895788, 5.4204464, 5.307049, 5.2902536, 5.2...  "
      ]
     },
     "execution_count": 31,
     "metadata": {},
     "output_type": "execute_result"
    }
   ],
   "source": [
    "result_df.head()"
   ]
  },
  {
   "cell_type": "code",
   "execution_count": 32,
   "id": "cf63f0bb-a3a8-4162-a1e4-72dfc82920e6",
   "metadata": {
    "execution": {
     "iopub.execute_input": "2022-05-07T16:26:32.961316Z",
     "iopub.status.busy": "2022-05-07T16:26:32.960317Z",
     "iopub.status.idle": "2022-05-07T16:26:33.053303Z",
     "shell.execute_reply": "2022-05-07T16:26:33.052304Z",
     "shell.execute_reply.started": "2022-05-07T16:26:32.961316Z"
    },
    "tags": []
   },
   "outputs": [],
   "source": [
    "timestamp_prefix = time_utils._timestamp_pretty()\n",
    "result_df.to_pickle(f'../Output/recommend_result_{timestamp_prefix}.pkl')"
   ]
  },
  {
   "cell_type": "code",
   "execution_count": 33,
   "id": "bc5d6611-2fd6-4d08-be19-e960dc29c8d2",
   "metadata": {
    "execution": {
     "iopub.execute_input": "2022-05-07T16:26:33.055302Z",
     "iopub.status.busy": "2022-05-07T16:26:33.055302Z",
     "iopub.status.idle": "2022-05-07T16:26:33.133290Z",
     "shell.execute_reply": "2022-05-07T16:26:33.132292Z",
     "shell.execute_reply.started": "2022-05-07T16:26:33.055302Z"
    }
   },
   "outputs": [
    {
     "data": {
      "text/html": [
       "<div>\n",
       "<style scoped>\n",
       "    .dataframe tbody tr th:only-of-type {\n",
       "        vertical-align: middle;\n",
       "    }\n",
       "\n",
       "    .dataframe tbody tr th {\n",
       "        vertical-align: top;\n",
       "    }\n",
       "\n",
       "    .dataframe thead th {\n",
       "        text-align: right;\n",
       "    }\n",
       "</style>\n",
       "<table border=\"1\" class=\"dataframe\">\n",
       "  <thead>\n",
       "    <tr style=\"text-align: right;\">\n",
       "      <th></th>\n",
       "      <th>user_id</th>\n",
       "      <th>item</th>\n",
       "      <th>score</th>\n",
       "    </tr>\n",
       "  </thead>\n",
       "  <tbody>\n",
       "    <tr>\n",
       "      <th>0</th>\n",
       "      <td>196</td>\n",
       "      <td>[Marvin's Room (1996), Muriel's Wedding (1994)...</td>\n",
       "      <td>[3.2124872, 3.2012463, 3.050365, 2.9061198, 2....</td>\n",
       "    </tr>\n",
       "    <tr>\n",
       "      <th>1</th>\n",
       "      <td>186</td>\n",
       "      <td>[Rich Man's Wife, The (1996), Set It Off (1996...</td>\n",
       "      <td>[3.7101855, 3.312335, 3.2354455, 3.2006693, 3....</td>\n",
       "    </tr>\n",
       "    <tr>\n",
       "      <th>2</th>\n",
       "      <td>22</td>\n",
       "      <td>[Houseguest (1994), Jingle All the Way (1996),...</td>\n",
       "      <td>[3.1025152, 3.0470707, 2.909378, 2.8906102, 2....</td>\n",
       "    </tr>\n",
       "    <tr>\n",
       "      <th>3</th>\n",
       "      <td>244</td>\n",
       "      <td>[Dazed and Confused (1993), Now and Then (1995...</td>\n",
       "      <td>[2.5598068, 2.5264373, 2.1983883, 2.1912973, 2...</td>\n",
       "    </tr>\n",
       "    <tr>\n",
       "      <th>4</th>\n",
       "      <td>166</td>\n",
       "      <td>[Flubber (1997), Mouse Hunt (1997), Anastasia ...</td>\n",
       "      <td>[5.895788, 5.4204464, 5.307049, 5.2902536, 5.2...</td>\n",
       "    </tr>\n",
       "    <tr>\n",
       "      <th>...</th>\n",
       "      <td>...</td>\n",
       "      <td>...</td>\n",
       "      <td>...</td>\n",
       "    </tr>\n",
       "    <tr>\n",
       "      <th>938</th>\n",
       "      <td>939</td>\n",
       "      <td>[Associate, The (1996), That Old Feeling (1997...</td>\n",
       "      <td>[4.7164116, 4.611521, 4.491795, 4.443122, 4.20...</td>\n",
       "    </tr>\n",
       "    <tr>\n",
       "      <th>939</th>\n",
       "      <td>936</td>\n",
       "      <td>[Cement Garden, The (1993), Hotel de Love (199...</td>\n",
       "      <td>[4.633749, 4.630556, 4.4191675, 4.2371416, 4.1...</td>\n",
       "    </tr>\n",
       "    <tr>\n",
       "      <th>940</th>\n",
       "      <td>930</td>\n",
       "      <td>[Emma (1996), Postino, Il (1994), Addicted to ...</td>\n",
       "      <td>[3.1928847, 3.1273036, 2.8424704, 2.8422384, 2...</td>\n",
       "    </tr>\n",
       "    <tr>\n",
       "      <th>941</th>\n",
       "      <td>920</td>\n",
       "      <td>[Edge, The (1997), Palmetto (1998), Devil's Ad...</td>\n",
       "      <td>[5.2678165, 5.120018, 5.011171, 5.0096664, 4.9...</td>\n",
       "    </tr>\n",
       "    <tr>\n",
       "      <th>942</th>\n",
       "      <td>941</td>\n",
       "      <td>[Face/Off (1997), Mystery Science Theater 3000...</td>\n",
       "      <td>[4.372111, 4.160821, 3.997734, 3.9433732, 3.86...</td>\n",
       "    </tr>\n",
       "  </tbody>\n",
       "</table>\n",
       "<p>943 rows × 3 columns</p>\n",
       "</div>"
      ],
      "text/plain": [
       "    user_id                                               item  \\\n",
       "0       196  [Marvin's Room (1996), Muriel's Wedding (1994)...   \n",
       "1       186  [Rich Man's Wife, The (1996), Set It Off (1996...   \n",
       "2        22  [Houseguest (1994), Jingle All the Way (1996),...   \n",
       "3       244  [Dazed and Confused (1993), Now and Then (1995...   \n",
       "4       166  [Flubber (1997), Mouse Hunt (1997), Anastasia ...   \n",
       "..      ...                                                ...   \n",
       "938     939  [Associate, The (1996), That Old Feeling (1997...   \n",
       "939     936  [Cement Garden, The (1993), Hotel de Love (199...   \n",
       "940     930  [Emma (1996), Postino, Il (1994), Addicted to ...   \n",
       "941     920  [Edge, The (1997), Palmetto (1998), Devil's Ad...   \n",
       "942     941  [Face/Off (1997), Mystery Science Theater 3000...   \n",
       "\n",
       "                                                 score  \n",
       "0    [3.2124872, 3.2012463, 3.050365, 2.9061198, 2....  \n",
       "1    [3.7101855, 3.312335, 3.2354455, 3.2006693, 3....  \n",
       "2    [3.1025152, 3.0470707, 2.909378, 2.8906102, 2....  \n",
       "3    [2.5598068, 2.5264373, 2.1983883, 2.1912973, 2...  \n",
       "4    [5.895788, 5.4204464, 5.307049, 5.2902536, 5.2...  \n",
       "..                                                 ...  \n",
       "938  [4.7164116, 4.611521, 4.491795, 4.443122, 4.20...  \n",
       "939  [4.633749, 4.630556, 4.4191675, 4.2371416, 4.1...  \n",
       "940  [3.1928847, 3.1273036, 2.8424704, 2.8422384, 2...  \n",
       "941  [5.2678165, 5.120018, 5.011171, 5.0096664, 4.9...  \n",
       "942  [4.372111, 4.160821, 3.997734, 3.9433732, 3.86...  \n",
       "\n",
       "[943 rows x 3 columns]"
      ]
     },
     "execution_count": 33,
     "metadata": {},
     "output_type": "execute_result"
    }
   ],
   "source": [
    "pd.read_pickle(f'../Output/recommend_result_{timestamp_prefix}.pkl')"
   ]
  },
  {
   "cell_type": "markdown",
   "id": "322e0e99-f44e-46fd-a49c-b5f0c7626540",
   "metadata": {
    "tags": []
   },
   "source": [
    "## Model serving\n",
    "After the model is trained, we need a way to deploy it.\n",
    "\n",
    "In a two-tower retrieval model, serving has two components:\n",
    "\n",
    "* a serving query model, taking in features of the query and transforming them into a query embedding, and\n",
    "* a serving candidate model. This most often takes the form of an approximate nearest neighbours (ANN) index which allows fast approximate lookup of candidates in response to a query produced by the query model.\n",
    "\n",
    "In TFRS, both components can be packaged into a single exportable model, giving us a model that takes the raw user id and returns the titles of top movies for that user. This is done via exporting the model to a `SavedModel` format, which makes it possible to serve using [TensorFlow Serving](https://www.tensorflow.org/tfx/guide/serving).\n",
    "\n",
    "To deploy a model like this, we simply export the `BruteForce` layer we created above:"
   ]
  },
  {
   "cell_type": "code",
   "execution_count": 34,
   "id": "1b4b461b-dd8b-4f30-b9a5-1ffb0be9322f",
   "metadata": {
    "execution": {
     "iopub.execute_input": "2022-05-07T16:26:33.136291Z",
     "iopub.status.busy": "2022-05-07T16:26:33.135292Z",
     "iopub.status.idle": "2022-05-07T16:26:33.149288Z",
     "shell.execute_reply": "2022-05-07T16:26:33.148289Z",
     "shell.execute_reply.started": "2022-05-07T16:26:33.135292Z"
    }
   },
   "outputs": [],
   "source": [
    "# # Export the query model.\n",
    "# with tempfile.Tempporary() as tmp:\n",
    "#     path = os.path.join(tmp, 'model')\n",
    "    \n",
    "#     # Save the index.\n",
    "#     tf.saved_model.save(index, path)\n",
    "    \n",
    "#     # Load it back; can alseo be done in TensorFlow Serving.\n",
    "#     loaded = tf.saved_model.load(path)\n",
    "    \n",
    "#     # Pass a user id in, get top predicted movie titles back.\n",
    "#     scores, titles = loaded(['42'])  # give the user name for query recommendations\n",
    "    \n",
    "#     print(f'Recommendations: {titles[0][:3]}')"
   ]
  },
  {
   "cell_type": "code",
   "execution_count": 35,
   "id": "2fb85efb-cd0e-40ca-80a2-05f68b32d674",
   "metadata": {
    "execution": {
     "iopub.execute_input": "2022-05-07T16:26:33.152289Z",
     "iopub.status.busy": "2022-05-07T16:26:33.152289Z",
     "iopub.status.idle": "2022-05-07T16:26:34.849023Z",
     "shell.execute_reply": "2022-05-07T16:26:34.848022Z",
     "shell.execute_reply.started": "2022-05-07T16:26:33.152289Z"
    },
    "tags": []
   },
   "outputs": [
    {
     "name": "stderr",
     "output_type": "stream",
     "text": [
      "WARNING:absl:Found untraced functions such as query_with_exclusions while saving (showing 1 of 1). These functions will not be directly callable after loading.\n"
     ]
    },
    {
     "name": "stdout",
     "output_type": "stream",
     "text": [
      "INFO:tensorflow:Assets written to: ../Model/basic_retrival_model/202205080026\\assets\n"
     ]
    },
    {
     "name": "stderr",
     "output_type": "stream",
     "text": [
      "INFO:tensorflow:Assets written to: ../Model/basic_retrival_model/202205080026\\assets\n"
     ]
    }
   ],
   "source": [
    "tf.saved_model.save(index, f'../Model/basic_retrival_model/{timestamp_prefix}')"
   ]
  },
  {
   "cell_type": "code",
   "execution_count": 36,
   "id": "767c31b8-abe8-4139-8342-8f4e28d29d6d",
   "metadata": {
    "execution": {
     "iopub.execute_input": "2022-05-07T16:26:34.853022Z",
     "iopub.status.busy": "2022-05-07T16:26:34.852024Z",
     "iopub.status.idle": "2022-05-07T16:26:35.177971Z",
     "shell.execute_reply": "2022-05-07T16:26:35.176970Z",
     "shell.execute_reply.started": "2022-05-07T16:26:34.853022Z"
    },
    "tags": []
   },
   "outputs": [],
   "source": [
    "loaded = tf.saved_model.load(f'../Model/basic_retrival_model/{timestamp_prefix}')"
   ]
  },
  {
   "cell_type": "code",
   "execution_count": 37,
   "id": "d3a46d15-4dd7-4618-a9b1-3c11313ccb3a",
   "metadata": {
    "execution": {
     "iopub.execute_input": "2022-05-07T16:26:35.180971Z",
     "iopub.status.busy": "2022-05-07T16:26:35.179971Z",
     "iopub.status.idle": "2022-05-07T16:26:35.240963Z",
     "shell.execute_reply": "2022-05-07T16:26:35.239961Z",
     "shell.execute_reply.started": "2022-05-07T16:26:35.180971Z"
    }
   },
   "outputs": [
    {
     "name": "stdout",
     "output_type": "stream",
     "text": [
      "Recommendations: [b'All Dogs Go to Heaven 2 (1996)' b'Father of the Bride Part II (1995)'\n",
      " b'Grumpier Old Men (1995)']\n"
     ]
    }
   ],
   "source": [
    "scores, titles = loaded(['42'])\n",
    "print(f'Recommendations: {titles[0][:3]}')"
   ]
  },
  {
   "cell_type": "code",
   "execution_count": 38,
   "id": "2f32f8b7-5d22-4691-923c-b5e9d46e56e9",
   "metadata": {
    "execution": {
     "iopub.execute_input": "2022-05-07T16:26:35.242961Z",
     "iopub.status.busy": "2022-05-07T16:26:35.242961Z",
     "iopub.status.idle": "2022-05-07T16:26:35.301951Z",
     "shell.execute_reply": "2022-05-07T16:26:35.300951Z",
     "shell.execute_reply.started": "2022-05-07T16:26:35.242961Z"
    }
   },
   "outputs": [
    {
     "name": "stdout",
     "output_type": "stream",
     "text": [
      "Recommendations: [b'Con Air (1997)' b'Face/Off (1997)' b'Toy Story (1995)']\n"
     ]
    }
   ],
   "source": [
    "scores, titles = loaded(['66'])\n",
    "print(f'Recommendations: {titles[0][:3]}')"
   ]
  },
  {
   "cell_type": "markdown",
   "id": "71f03bc7-2b4e-4392-aca9-46acd539ac6c",
   "metadata": {
    "execution": {
     "iopub.execute_input": "2022-04-15T02:21:25.725593Z",
     "iopub.status.busy": "2022-04-15T02:21:25.724594Z",
     "iopub.status.idle": "2022-04-15T02:21:25.739592Z",
     "shell.execute_reply": "2022-04-15T02:21:25.737592Z",
     "shell.execute_reply.started": "2022-04-15T02:21:25.724594Z"
    }
   },
   "source": [
    "## More Advanced Skill to Serving Model"
   ]
  },
  {
   "cell_type": "markdown",
   "id": "3c5e8e39-6f7b-4a24-a170-ee27e20ffc71",
   "metadata": {},
   "source": [
    "We can also export an approximate retrieval index to speed up predictions. This will make it possible to efficiently surface recommendations from sets of tens of millions of candidates.\n",
    "\n",
    "To do so, we can use the `scann` package. This is an optional dependency of TFRS, and we installed it separately at the beginning of this tutorial by calling `!pip install -q scann`."
   ]
  },
  {
   "cell_type": "code",
   "execution_count": 39,
   "id": "51829bac-7e53-4972-98fe-d5ca7e67e146",
   "metadata": {
    "execution": {
     "iopub.execute_input": "2022-05-07T16:26:35.304951Z",
     "iopub.status.busy": "2022-05-07T16:26:35.303952Z",
     "iopub.status.idle": "2022-05-07T16:26:35.317950Z",
     "shell.execute_reply": "2022-05-07T16:26:35.315951Z",
     "shell.execute_reply.started": "2022-05-07T16:26:35.304951Z"
    },
    "tags": []
   },
   "outputs": [],
   "source": [
    "# scann_index = tfrs.layers.factorized_top_k.ScaNN(model.user_model)\n",
    "# scann_index.index_from_dataset(\n",
    "#     tf.data.Dataset.zip((movies.batch(100), movies.batch(100).map(model.movie_model)))\n",
    "# )"
   ]
  },
  {
   "cell_type": "markdown",
   "id": "2cfb4d5e-2d49-4ccc-a2ba-1221463297e4",
   "metadata": {},
   "source": [
    "**This layer will perform approximate lookups: this makes retrieval slightly less accurate, but orders of magnitude faster on large candidate sets.**"
   ]
  },
  {
   "cell_type": "code",
   "execution_count": 40,
   "id": "c67a5cc0-f37b-4819-93fb-ac610a431f21",
   "metadata": {
    "execution": {
     "iopub.execute_input": "2022-05-07T16:26:35.320949Z",
     "iopub.status.busy": "2022-05-07T16:26:35.319950Z",
     "iopub.status.idle": "2022-05-07T16:26:35.331948Z",
     "shell.execute_reply": "2022-05-07T16:26:35.330947Z",
     "shell.execute_reply.started": "2022-05-07T16:26:35.320949Z"
    }
   },
   "outputs": [],
   "source": [
    "# # Get recommendations.\n",
    "# _, titles = scann_index(tf.constant([\"42\"]))\n",
    "# print(f\"Recommendations for user 42: {titles[0, :3]}\")"
   ]
  },
  {
   "cell_type": "markdown",
   "id": "27689a33-ead9-4b2e-940b-047e3bc5fdee",
   "metadata": {},
   "source": [
    "Exporting it for serving is as easy as exporting the `BruteForce` layer:"
   ]
  },
  {
   "cell_type": "code",
   "execution_count": 41,
   "id": "f74a710a-f2f6-4624-a430-4cccf11037b4",
   "metadata": {
    "execution": {
     "iopub.execute_input": "2022-05-07T16:26:35.334948Z",
     "iopub.status.busy": "2022-05-07T16:26:35.333949Z",
     "iopub.status.idle": "2022-05-07T16:26:35.347945Z",
     "shell.execute_reply": "2022-05-07T16:26:35.346947Z",
     "shell.execute_reply.started": "2022-05-07T16:26:35.334948Z"
    }
   },
   "outputs": [],
   "source": [
    "# # Export the query model.\n",
    "# with tempfile.TemporaryDirectory() as tmp:\n",
    "#     path = os.path.join(tmp, \"model\")\n",
    "\n",
    "#     # Save the index.\n",
    "#     tf.saved_model.save(\n",
    "#         index,\n",
    "#         path,\n",
    "#         options=tf.saved_model.SaveOptions(namespace_whitelist=[\"Scann\"])\n",
    "#     )\n",
    "\n",
    "#     # Load it back; can also be done in TensorFlow Serving.\n",
    "#     loaded = tf.saved_model.load(path)\n",
    "\n",
    "#     # Pass a user id in, get top predicted movie titles back.\n",
    "#     scores, titles = loaded([\"42\"])\n",
    "\n",
    "#     print(f\"Recommendations: {titles[0][:3]}\")"
   ]
  },
  {
   "cell_type": "markdown",
   "id": "539afa91-0756-4f45-ab0c-5293bdc4c7fb",
   "metadata": {},
   "source": [
    "To learn more about using and tuning fast approximate retrieval models, have a look at our [efficient serving](https://www.tensorflow.org/recommenders/examples/efficient_serving) tutorial."
   ]
  },
  {
   "cell_type": "markdown",
   "id": "1a13cb8a-3e2e-4209-905c-5ac5625324e3",
   "metadata": {},
   "source": [
    "## Item-to-item recommendation\n",
    "In this model, we created a user-movie model. However, for some applications (for example, product detail pages) it's common to perform item-to-item (for example, movie-to-movie or product-to-product) recommendations.\n",
    "\n",
    "Training models like this would follow the same pattern as shown in this tutorial, but with different training data. Here, we had a user and a movie tower, and used (user, movie) pairs to train them. In an item-to-item model, we would have two item towers (for the query and candidate item), and train the model using (query item, candidate item) pairs. These could be constructed from clicks on product detail pages."
   ]
  },
  {
   "cell_type": "markdown",
   "id": "bcf78e2f-355b-4f09-937d-2cc5e902d6ed",
   "metadata": {
    "execution": {
     "iopub.execute_input": "2022-04-15T01:32:41.837898Z",
     "iopub.status.busy": "2022-04-15T01:32:41.837898Z",
     "iopub.status.idle": "2022-04-15T01:32:41.869891Z",
     "shell.execute_reply": "2022-04-15T01:32:41.867892Z",
     "shell.execute_reply.started": "2022-04-15T01:32:41.837898Z"
    }
   },
   "source": [
    "## Next steps\n",
    "To expand on what is presented here, have a look at:\n",
    "\n",
    "1. Learning multi-task models: jointly optimizing for ratings and clicks.\n",
    "2. Using movie metadata: building a more complex movie model to alleviate cold-start."
   ]
  }
 ],
 "metadata": {
  "kernelspec": {
   "display_name": "Python 3 (ipykernel)",
   "language": "python",
   "name": "python3"
  },
  "language_info": {
   "codemirror_mode": {
    "name": "ipython",
    "version": 3
   },
   "file_extension": ".py",
   "mimetype": "text/x-python",
   "name": "python",
   "nbconvert_exporter": "python",
   "pygments_lexer": "ipython3",
   "version": "3.9.7"
  }
 },
 "nbformat": 4,
 "nbformat_minor": 5
}
